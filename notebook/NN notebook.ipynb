{
 "cells": [
  {
   "cell_type": "markdown",
   "metadata": {
    "id": "2PXW_TEVG7iO"
   },
   "source": [
    "## Project: Zillow's market value estimation"
   ]
  },
  {
   "cell_type": "markdown",
   "metadata": {
    "id": "nPzGw2LaFFzx"
   },
   "source": [
    "**Introduction:**\\\n",
    "A Zestimate is Zillow’s estimated market value for a home, computed using a proprietary formula including public and user-submitted data, such as details about a home (bedrooms, bathrooms, home age, etc.), location, property tax assessment information and sales histories of the subject home as well as other homes that have recently sold in the area.\n",
    "\n",
    "**Objective:**\\\n",
    "In this competition, Zillow is asking you to predict the log-error between their Zestimate and the actual sale price, given all the features of a home. The log error is defined as\\\n",
    "$logerror=log(Zestimate)−log(SalePrice)$\\\n",
    "and it is recorded in the transactions file train.csv. In this competition, you are going to predict the logerror for the months in Fall 2017.\\[1pt]"
   ]
  },
  {
   "cell_type": "markdown",
   "metadata": {},
   "source": [
    "### Import of python libraries"
   ]
  },
  {
   "cell_type": "code",
   "execution_count": 3,
   "metadata": {
    "id": "HSvsjc2clIqD"
   },
   "outputs": [],
   "source": [
    "import pandas as pd\n",
    "import numpy as np\n",
    "import matplotlib.pyplot as plt\n",
    "import os\n",
    " \n",
    "from sklearn.model_selection import train_test_split\n",
    "from sklearn.preprocessing import StandardScaler\n",
    "from sklearn.metrics import mean_squared_error\n",
    "import tensorflow as tf"
   ]
  },
  {
   "cell_type": "markdown",
   "metadata": {},
   "source": [
    "### Import of the data"
   ]
  },
  {
   "cell_type": "code",
   "execution_count": 9,
   "metadata": {
    "id": "hObuOG7ue52H"
   },
   "outputs": [],
   "source": [
    "path = os.getcwd()\n",
    "parent_path = os.path.abspath(os.path.join(path, os.pardir))\n",
    "data_path = '\\\\data\\\\processed_data\\\\'\n",
    "\n",
    "# Import the file into our working environment\n",
    "X_train = pd.read_csv(parent_path + data_path + 'X_train.csv', sep=\",\", index_col=0)\n",
    "X_test = pd.read_csv(parent_path + data_path + 'X_test.csv', sep=\",\", index_col=0)\n",
    "y_train = pd.read_csv(parent_path + data_path + 'y_train.csv', sep=\",\", index_col=0)\n",
    "y_test = pd.read_csv(parent_path + data_path + 'y_test.csv', sep=\",\", index_col=0)"
   ]
  },
  {
   "cell_type": "code",
   "execution_count": 8,
   "metadata": {},
   "outputs": [
    {
     "data": {
      "text/html": [
       "<div>\n",
       "<style scoped>\n",
       "    .dataframe tbody tr th:only-of-type {\n",
       "        vertical-align: middle;\n",
       "    }\n",
       "\n",
       "    .dataframe tbody tr th {\n",
       "        vertical-align: top;\n",
       "    }\n",
       "\n",
       "    .dataframe thead th {\n",
       "        text-align: right;\n",
       "    }\n",
       "</style>\n",
       "<table border=\"1\" class=\"dataframe\">\n",
       "  <thead>\n",
       "    <tr style=\"text-align: right;\">\n",
       "      <th></th>\n",
       "      <th>yearbuilt</th>\n",
       "      <th>regionidcity</th>\n",
       "      <th>regionidcounty</th>\n",
       "      <th>regionidzip</th>\n",
       "      <th>roomcnt</th>\n",
       "      <th>bathroomcnt</th>\n",
       "      <th>bedroomcnt</th>\n",
       "      <th>calculatedfinishedsquarefeet</th>\n",
       "      <th>lotsizesquarefeet</th>\n",
       "      <th>assessmentyear</th>\n",
       "    </tr>\n",
       "  </thead>\n",
       "  <tbody>\n",
       "    <tr>\n",
       "      <th>29578</th>\n",
       "      <td>2009.0</td>\n",
       "      <td>50677.0</td>\n",
       "      <td>3101.0</td>\n",
       "      <td>96531.0</td>\n",
       "      <td>0.0</td>\n",
       "      <td>2.0</td>\n",
       "      <td>3.0</td>\n",
       "      <td>1360.0</td>\n",
       "      <td>7000.0</td>\n",
       "      <td>2016.0</td>\n",
       "    </tr>\n",
       "    <tr>\n",
       "      <th>978580</th>\n",
       "      <td>1955.0</td>\n",
       "      <td>39306.0</td>\n",
       "      <td>3101.0</td>\n",
       "      <td>96488.0</td>\n",
       "      <td>0.0</td>\n",
       "      <td>2.0</td>\n",
       "      <td>3.0</td>\n",
       "      <td>1388.0</td>\n",
       "      <td>5953.0</td>\n",
       "      <td>2016.0</td>\n",
       "    </tr>\n",
       "    <tr>\n",
       "      <th>1940748</th>\n",
       "      <td>1941.0</td>\n",
       "      <td>12447.0</td>\n",
       "      <td>3101.0</td>\n",
       "      <td>96412.0</td>\n",
       "      <td>0.0</td>\n",
       "      <td>3.0</td>\n",
       "      <td>3.0</td>\n",
       "      <td>2240.0</td>\n",
       "      <td>6503.0</td>\n",
       "      <td>2016.0</td>\n",
       "    </tr>\n",
       "    <tr>\n",
       "      <th>1994608</th>\n",
       "      <td>1955.0</td>\n",
       "      <td>16764.0</td>\n",
       "      <td>1286.0</td>\n",
       "      <td>97023.0</td>\n",
       "      <td>7.0</td>\n",
       "      <td>2.0</td>\n",
       "      <td>3.0</td>\n",
       "      <td>2320.0</td>\n",
       "      <td>7200.0</td>\n",
       "      <td>2016.0</td>\n",
       "    </tr>\n",
       "    <tr>\n",
       "      <th>2144800</th>\n",
       "      <td>1913.0</td>\n",
       "      <td>47568.0</td>\n",
       "      <td>1286.0</td>\n",
       "      <td>97001.0</td>\n",
       "      <td>6.0</td>\n",
       "      <td>1.0</td>\n",
       "      <td>3.0</td>\n",
       "      <td>1292.0</td>\n",
       "      <td>5750.0</td>\n",
       "      <td>2016.0</td>\n",
       "    </tr>\n",
       "  </tbody>\n",
       "</table>\n",
       "</div>"
      ],
      "text/plain": [
       "         yearbuilt  regionidcity  regionidcounty  regionidzip  roomcnt  \\\n",
       "29578       2009.0       50677.0          3101.0      96531.0      0.0   \n",
       "978580      1955.0       39306.0          3101.0      96488.0      0.0   \n",
       "1940748     1941.0       12447.0          3101.0      96412.0      0.0   \n",
       "1994608     1955.0       16764.0          1286.0      97023.0      7.0   \n",
       "2144800     1913.0       47568.0          1286.0      97001.0      6.0   \n",
       "\n",
       "         bathroomcnt  bedroomcnt  calculatedfinishedsquarefeet  \\\n",
       "29578            2.0         3.0                        1360.0   \n",
       "978580           2.0         3.0                        1388.0   \n",
       "1940748          3.0         3.0                        2240.0   \n",
       "1994608          2.0         3.0                        2320.0   \n",
       "2144800          1.0         3.0                        1292.0   \n",
       "\n",
       "         lotsizesquarefeet  assessmentyear  \n",
       "29578               7000.0          2016.0  \n",
       "978580              5953.0          2016.0  \n",
       "1940748             6503.0          2016.0  \n",
       "1994608             7200.0          2016.0  \n",
       "2144800             5750.0          2016.0  "
      ]
     },
     "execution_count": 8,
     "metadata": {},
     "output_type": "execute_result"
    }
   ],
   "source": [
    "X_train.head()"
   ]
  },
  {
   "cell_type": "code",
   "execution_count": 17,
   "metadata": {
    "id": "rEFVZ9eNuMjq"
   },
   "outputs": [
    {
     "name": "stdout",
     "output_type": "stream",
     "text": [
      "Epoch 1/10\n",
      "2306/2306 [==============================] - 16s 7ms/step - loss: 627596132352.0000\n",
      "Epoch 2/10\n",
      "2306/2306 [==============================] - 16s 7ms/step - loss: 479831654400.0000\n",
      "Epoch 3/10\n",
      "2306/2306 [==============================] - 12s 5ms/step - loss: 447855296512.0000\n",
      "Epoch 4/10\n",
      "2306/2306 [==============================] - 12s 5ms/step - loss: 435340345344.0000\n",
      "Epoch 5/10\n",
      "2306/2306 [==============================] - 12s 5ms/step - loss: 430115684352.0000\n",
      "Epoch 6/10\n",
      "2306/2306 [==============================] - 15s 6ms/step - loss: 425761144832.0000\n",
      "Epoch 7/10\n",
      "2306/2306 [==============================] - 17s 7ms/step - loss: 424156659712.0000\n",
      "Epoch 8/10\n",
      "2306/2306 [==============================] - 13s 6ms/step - loss: 423742799872.0000\n",
      "Epoch 9/10\n",
      "2306/2306 [==============================] - 19s 8ms/step - loss: 423556382720.0000\n",
      "Epoch 10/10\n",
      "2306/2306 [==============================] - 14s 6ms/step - loss: 422818512896.0000\n"
     ]
    },
    {
     "data": {
      "text/plain": [
       "<keras.callbacks.History at 0x2278cd447f0>"
      ]
     },
     "execution_count": 17,
     "metadata": {},
     "output_type": "execute_result"
    }
   ],
   "source": [
    "# Standardize the features\n",
    "scaler = StandardScaler()\n",
    "X_train_scaled = scaler.fit_transform(X_train)\n",
    "X_test_scaled = scaler.transform(X_test)\n",
    "\n",
    "# Build the neural network model\n",
    "model = tf.keras.Sequential([\n",
    "    tf.keras.layers.Dense(64, activation='relu', input_shape=(X_train_scaled.shape[1],)),\n",
    "    tf.keras.layers.Dense(32, activation='relu'),\n",
    "    tf.keras.layers.Dense(16, activation='relu'),\n",
    "    tf.keras.layers.Dense(1)  # Output layer\n",
    "])\n",
    "\n",
    "# Compile the model\n",
    "model.compile(optimizer='adam', loss='mean_squared_error')\n",
    "\n",
    "# Train the model\n",
    "model.fit(X_train_scaled, y_train, epochs=10, batch_size=1024, verbose=1)"
   ]
  },
  {
   "cell_type": "code",
   "execution_count": 18,
   "metadata": {},
   "outputs": [
    {
     "name": "stdout",
     "output_type": "stream",
     "text": [
      "Model: \"sequential_2\"\n",
      "_________________________________________________________________\n",
      " Layer (type)                Output Shape              Param #   \n",
      "=================================================================\n",
      " dense_8 (Dense)             (None, 64)                704       \n",
      "                                                                 \n",
      " dense_9 (Dense)             (None, 32)                2080      \n",
      "                                                                 \n",
      " dense_10 (Dense)            (None, 16)                528       \n",
      "                                                                 \n",
      " dense_11 (Dense)            (None, 1)                 17        \n",
      "                                                                 \n",
      "=================================================================\n",
      "Total params: 3,329\n",
      "Trainable params: 3,329\n",
      "Non-trainable params: 0\n",
      "_________________________________________________________________\n"
     ]
    }
   ],
   "source": [
    "model.summary()"
   ]
  },
  {
   "cell_type": "code",
   "execution_count": 19,
   "metadata": {},
   "outputs": [
    {
     "name": "stdout",
     "output_type": "stream",
     "text": [
      "18444/18444 [==============================] - 53s 3ms/step\n"
     ]
    }
   ],
   "source": [
    "# Make predictions\n",
    "y_pred = model.predict(X_test_scaled)"
   ]
  },
  {
   "cell_type": "code",
   "execution_count": 20,
   "metadata": {},
   "outputs": [
    {
     "name": "stdout",
     "output_type": "stream",
     "text": [
      "Root Mean Squared Error (RMSE): 774979.1418979057\n",
      "R2 score: 0.1963013390664624\n"
     ]
    }
   ],
   "source": [
    "from sklearn.metrics import r2_score\n",
    "rmse = np.sqrt(mean_squared_error(y_test, y_pred))\n",
    "print(\"Root Mean Squared Error (RMSE):\", rmse)\n",
    "print(\"R2 score:\", r2_score(y_test, y_pred))"
   ]
  },
  {
   "cell_type": "code",
   "execution_count": null,
   "metadata": {},
   "outputs": [],
   "source": []
  }
 ],
 "metadata": {
  "colab": {
   "provenance": []
  },
  "kernelspec": {
   "display_name": "Python 3 (ipykernel)",
   "language": "python",
   "name": "python3"
  },
  "language_info": {
   "codemirror_mode": {
    "name": "ipython",
    "version": 3
   },
   "file_extension": ".py",
   "mimetype": "text/x-python",
   "name": "python",
   "nbconvert_exporter": "python",
   "pygments_lexer": "ipython3",
   "version": "3.10.13"
  }
 },
 "nbformat": 4,
 "nbformat_minor": 4
}
