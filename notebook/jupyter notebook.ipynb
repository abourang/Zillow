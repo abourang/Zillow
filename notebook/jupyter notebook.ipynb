{
 "cells": [
  {
   "cell_type": "markdown",
   "metadata": {
    "id": "2PXW_TEVG7iO"
   },
   "source": [
    "## Project: Zillow's market value estimation"
   ]
  },
  {
   "cell_type": "markdown",
   "metadata": {
    "id": "nPzGw2LaFFzx"
   },
   "source": [
    "**Introduction:**\\\n",
    "A Zestimate is Zillow’s estimated market value for a home, computed using a proprietary formula including public and user-submitted data, such as details about a home (bedrooms, bathrooms, home age, etc.), location, property tax assessment information and sales histories of the subject home as well as other homes that have recently sold in the area.\n",
    "\n",
    "**Objective:**\\\n",
    "In this competition, Zillow is asking you to predict the log-error between their Zestimate and the actual sale price, given all the features of a home. The log error is defined as\\\n",
    "$logerror=log(Zestimate)−log(SalePrice)$\\\n",
    "and it is recorded in the transactions file train.csv. In this competition, you are going to predict the logerror for the months in Fall 2017.\\[1pt]"
   ]
  },
  {
   "cell_type": "markdown",
   "metadata": {},
   "source": [
    "### Import of python libraries"
   ]
  },
  {
   "cell_type": "code",
   "execution_count": 1,
   "metadata": {
    "id": "HSvsjc2clIqD"
   },
   "outputs": [],
   "source": [
    "import pandas as pd\n",
    "import numpy as np\n",
    "import seaborn as sns\n",
    "import matplotlib.pyplot as plt\n",
    "\n",
    "from sklearn.model_selection import train_test_split\n",
    "from sklearn.preprocessing import StandardScaler, OneHotEncoder\n",
    "from sklearn.linear_model import LinearRegression\n",
    "from sklearn.compose import ColumnTransformer\n",
    "from sklearn.pipeline import Pipeline\n",
    "from sklearn.tree import DecisionTreeRegressor\n",
    "from sklearn.ensemble import AdaBoostRegressor\n",
    "from sklearn.decomposition import PCA"
   ]
  },
  {
   "cell_type": "markdown",
   "metadata": {},
   "source": [
    "### Import of the data"
   ]
  },
  {
   "cell_type": "code",
   "execution_count": 3,
   "metadata": {},
   "outputs": [
    {
     "name": "stdout",
     "output_type": "stream",
     "text": [
      "Current Directory C:\\Users\\lucap\\Documents\\Luca_documents\\Stanford Uni\\BUS 48 Data Analytics\\project\\bus48-zillow-dataset\\notebook\n",
      "C:\\Users\\lucap\\Documents\\Luca_documents\\Stanford Uni\\BUS 48 Data Analytics\\project\\bus48-zillow-dataset\n"
     ]
    }
   ],
   "source": [
    "import os\n",
    " \n",
    "# get current directory\n",
    "path = os.getcwd()\n",
    "print(\"Current Directory\", path)\n",
    " \n",
    "# prints parent directory\n",
    "print(os.path.abspath(os.path.join(path, os.pardir)))"
   ]
  },
  {
   "cell_type": "code",
   "execution_count": 5,
   "metadata": {},
   "outputs": [
    {
     "data": {
      "text/html": [
       "<div>\n",
       "<style scoped>\n",
       "    .dataframe tbody tr th:only-of-type {\n",
       "        vertical-align: middle;\n",
       "    }\n",
       "\n",
       "    .dataframe tbody tr th {\n",
       "        vertical-align: top;\n",
       "    }\n",
       "\n",
       "    .dataframe thead th {\n",
       "        text-align: right;\n",
       "    }\n",
       "</style>\n",
       "<table border=\"1\" class=\"dataframe\">\n",
       "  <thead>\n",
       "    <tr style=\"text-align: right;\">\n",
       "      <th></th>\n",
       "      <th>Feature</th>\n",
       "      <th>Description</th>\n",
       "    </tr>\n",
       "  </thead>\n",
       "  <tbody>\n",
       "    <tr>\n",
       "      <th>0</th>\n",
       "      <td>'airconditioningtypeid'</td>\n",
       "      <td>Type of cooling system present in the home (i...</td>\n",
       "    </tr>\n",
       "    <tr>\n",
       "      <th>1</th>\n",
       "      <td>'architecturalstyletypeid'</td>\n",
       "      <td>Architectural style of the home (i.e. ranch, ...</td>\n",
       "    </tr>\n",
       "    <tr>\n",
       "      <th>2</th>\n",
       "      <td>'basementsqft'</td>\n",
       "      <td>Finished living area below or partially below...</td>\n",
       "    </tr>\n",
       "    <tr>\n",
       "      <th>3</th>\n",
       "      <td>'bathroomcnt'</td>\n",
       "      <td>Number of bathrooms in home including fractio...</td>\n",
       "    </tr>\n",
       "    <tr>\n",
       "      <th>4</th>\n",
       "      <td>'bedroomcnt'</td>\n",
       "      <td>Number of bedrooms in home</td>\n",
       "    </tr>\n",
       "    <tr>\n",
       "      <th>5</th>\n",
       "      <td>'buildingqualitytypeid'</td>\n",
       "      <td>Overall assessment of condition of the buildi...</td>\n",
       "    </tr>\n",
       "    <tr>\n",
       "      <th>6</th>\n",
       "      <td>'buildingclasstypeid'</td>\n",
       "      <td>The building framing type (steel frame, wood f...</td>\n",
       "    </tr>\n",
       "    <tr>\n",
       "      <th>7</th>\n",
       "      <td>'calculatedbathnbr'</td>\n",
       "      <td>Number of bathrooms in home including fractio...</td>\n",
       "    </tr>\n",
       "    <tr>\n",
       "      <th>8</th>\n",
       "      <td>'decktypeid'</td>\n",
       "      <td>Type of deck (if any) present on parcel</td>\n",
       "    </tr>\n",
       "    <tr>\n",
       "      <th>9</th>\n",
       "      <td>'threequarterbathnbr'</td>\n",
       "      <td>Number of 3/4 bathrooms in house (shower + si...</td>\n",
       "    </tr>\n",
       "    <tr>\n",
       "      <th>10</th>\n",
       "      <td>'finishedfloor1squarefeet'</td>\n",
       "      <td>Size of the finished living area on the first...</td>\n",
       "    </tr>\n",
       "    <tr>\n",
       "      <th>11</th>\n",
       "      <td>'calculatedfinishedsquarefeet'</td>\n",
       "      <td>Calculated total finished living area of the ...</td>\n",
       "    </tr>\n",
       "    <tr>\n",
       "      <th>12</th>\n",
       "      <td>'finishedsquarefeet6'</td>\n",
       "      <td>Base unfinished and finished area</td>\n",
       "    </tr>\n",
       "    <tr>\n",
       "      <th>13</th>\n",
       "      <td>'finishedsquarefeet12'</td>\n",
       "      <td>Finished living area</td>\n",
       "    </tr>\n",
       "    <tr>\n",
       "      <th>14</th>\n",
       "      <td>'finishedsquarefeet13'</td>\n",
       "      <td>Perimeter  living area</td>\n",
       "    </tr>\n",
       "    <tr>\n",
       "      <th>15</th>\n",
       "      <td>'finishedsquarefeet15'</td>\n",
       "      <td>Total area</td>\n",
       "    </tr>\n",
       "    <tr>\n",
       "      <th>16</th>\n",
       "      <td>'finishedsquarefeet50'</td>\n",
       "      <td>Size of the finished living area on the first...</td>\n",
       "    </tr>\n",
       "    <tr>\n",
       "      <th>17</th>\n",
       "      <td>'fips'</td>\n",
       "      <td>Federal Information Processing Standard code ...</td>\n",
       "    </tr>\n",
       "    <tr>\n",
       "      <th>18</th>\n",
       "      <td>'fireplacecnt'</td>\n",
       "      <td>Number of fireplaces in a home (if any)</td>\n",
       "    </tr>\n",
       "    <tr>\n",
       "      <th>19</th>\n",
       "      <td>'fireplaceflag'</td>\n",
       "      <td>Is a fireplace present in this home</td>\n",
       "    </tr>\n",
       "    <tr>\n",
       "      <th>20</th>\n",
       "      <td>'fullbathcnt'</td>\n",
       "      <td>Number of full bathrooms (sink, shower + bath...</td>\n",
       "    </tr>\n",
       "    <tr>\n",
       "      <th>21</th>\n",
       "      <td>'garagecarcnt'</td>\n",
       "      <td>Total number of garages on the lot including ...</td>\n",
       "    </tr>\n",
       "    <tr>\n",
       "      <th>22</th>\n",
       "      <td>'garagetotalsqft'</td>\n",
       "      <td>Total number of square feet of all garages on...</td>\n",
       "    </tr>\n",
       "    <tr>\n",
       "      <th>23</th>\n",
       "      <td>'hashottuborspa'</td>\n",
       "      <td>Does the home have a hot tub or spa</td>\n",
       "    </tr>\n",
       "    <tr>\n",
       "      <th>24</th>\n",
       "      <td>'heatingorsystemtypeid'</td>\n",
       "      <td>Type of home heating system</td>\n",
       "    </tr>\n",
       "    <tr>\n",
       "      <th>25</th>\n",
       "      <td>'latitude'</td>\n",
       "      <td>Latitude of the middle of the parcel multipli...</td>\n",
       "    </tr>\n",
       "    <tr>\n",
       "      <th>26</th>\n",
       "      <td>'longitude'</td>\n",
       "      <td>Longitude of the middle of the parcel multipl...</td>\n",
       "    </tr>\n",
       "    <tr>\n",
       "      <th>27</th>\n",
       "      <td>'lotsizesquarefeet'</td>\n",
       "      <td>Area of the lot in square feet</td>\n",
       "    </tr>\n",
       "    <tr>\n",
       "      <th>28</th>\n",
       "      <td>'numberofstories'</td>\n",
       "      <td>Number of stories or levels the home has</td>\n",
       "    </tr>\n",
       "    <tr>\n",
       "      <th>29</th>\n",
       "      <td>'parcelid'</td>\n",
       "      <td>Unique identifier for parcels (lots)</td>\n",
       "    </tr>\n",
       "    <tr>\n",
       "      <th>30</th>\n",
       "      <td>'poolcnt'</td>\n",
       "      <td>Number of pools on the lot (if any)</td>\n",
       "    </tr>\n",
       "    <tr>\n",
       "      <th>31</th>\n",
       "      <td>'poolsizesum'</td>\n",
       "      <td>Total square footage of all pools on property</td>\n",
       "    </tr>\n",
       "    <tr>\n",
       "      <th>32</th>\n",
       "      <td>'pooltypeid10'</td>\n",
       "      <td>Spa or Hot Tub</td>\n",
       "    </tr>\n",
       "    <tr>\n",
       "      <th>33</th>\n",
       "      <td>'pooltypeid2'</td>\n",
       "      <td>Pool with Spa/Hot Tub</td>\n",
       "    </tr>\n",
       "    <tr>\n",
       "      <th>34</th>\n",
       "      <td>'pooltypeid7'</td>\n",
       "      <td>Pool without hot tub</td>\n",
       "    </tr>\n",
       "    <tr>\n",
       "      <th>35</th>\n",
       "      <td>'propertycountylandusecode'</td>\n",
       "      <td>County land use code i.e. it's zoning at the ...</td>\n",
       "    </tr>\n",
       "    <tr>\n",
       "      <th>36</th>\n",
       "      <td>'propertylandusetypeid'</td>\n",
       "      <td>Type of land use the property is zoned for</td>\n",
       "    </tr>\n",
       "    <tr>\n",
       "      <th>37</th>\n",
       "      <td>'propertyzoningdesc'</td>\n",
       "      <td>Description of the allowed land uses (zoning)...</td>\n",
       "    </tr>\n",
       "    <tr>\n",
       "      <th>38</th>\n",
       "      <td>'rawcensustractandblock'</td>\n",
       "      <td>Census tract and block ID combined - also con...</td>\n",
       "    </tr>\n",
       "    <tr>\n",
       "      <th>39</th>\n",
       "      <td>'censustractandblock'</td>\n",
       "      <td>Census tract and block ID combined - also con...</td>\n",
       "    </tr>\n",
       "    <tr>\n",
       "      <th>40</th>\n",
       "      <td>'regionidcounty'</td>\n",
       "      <td>County in which the property is located</td>\n",
       "    </tr>\n",
       "    <tr>\n",
       "      <th>41</th>\n",
       "      <td>'regionidcity'</td>\n",
       "      <td>City in which the property is located (if any)</td>\n",
       "    </tr>\n",
       "    <tr>\n",
       "      <th>42</th>\n",
       "      <td>'regionidzip'</td>\n",
       "      <td>Zip code in which the property is located</td>\n",
       "    </tr>\n",
       "    <tr>\n",
       "      <th>43</th>\n",
       "      <td>'regionidneighborhood'</td>\n",
       "      <td>Neighborhood in which the property is located</td>\n",
       "    </tr>\n",
       "    <tr>\n",
       "      <th>44</th>\n",
       "      <td>'roomcnt'</td>\n",
       "      <td>Total number of rooms in the principal residence</td>\n",
       "    </tr>\n",
       "    <tr>\n",
       "      <th>45</th>\n",
       "      <td>'storytypeid'</td>\n",
       "      <td>Type of floors in a multi-story house (i.e. b...</td>\n",
       "    </tr>\n",
       "    <tr>\n",
       "      <th>46</th>\n",
       "      <td>'typeconstructiontypeid'</td>\n",
       "      <td>What type of construction material was used t...</td>\n",
       "    </tr>\n",
       "    <tr>\n",
       "      <th>47</th>\n",
       "      <td>'unitcnt'</td>\n",
       "      <td>Number of units the structure is built into (...</td>\n",
       "    </tr>\n",
       "    <tr>\n",
       "      <th>48</th>\n",
       "      <td>'yardbuildingsqft17'</td>\n",
       "      <td>Patio in  yard</td>\n",
       "    </tr>\n",
       "    <tr>\n",
       "      <th>49</th>\n",
       "      <td>'yardbuildingsqft26'</td>\n",
       "      <td>Storage shed/building in yard</td>\n",
       "    </tr>\n",
       "    <tr>\n",
       "      <th>50</th>\n",
       "      <td>'yearbuilt'</td>\n",
       "      <td>The Year the principal residence was built</td>\n",
       "    </tr>\n",
       "    <tr>\n",
       "      <th>51</th>\n",
       "      <td>'taxvaluedollarcnt'</td>\n",
       "      <td>The total tax assessed value of the parcel</td>\n",
       "    </tr>\n",
       "    <tr>\n",
       "      <th>52</th>\n",
       "      <td>'structuretaxvaluedollarcnt'</td>\n",
       "      <td>The assessed value of the built structure on t...</td>\n",
       "    </tr>\n",
       "    <tr>\n",
       "      <th>53</th>\n",
       "      <td>'landtaxvaluedollarcnt'</td>\n",
       "      <td>The assessed value of the land area of the parcel</td>\n",
       "    </tr>\n",
       "    <tr>\n",
       "      <th>54</th>\n",
       "      <td>'taxamount'</td>\n",
       "      <td>The total property tax assessed for that asses...</td>\n",
       "    </tr>\n",
       "    <tr>\n",
       "      <th>55</th>\n",
       "      <td>'assessmentyear'</td>\n",
       "      <td>The year of the property tax assessment</td>\n",
       "    </tr>\n",
       "    <tr>\n",
       "      <th>56</th>\n",
       "      <td>'taxdelinquencyflag'</td>\n",
       "      <td>Property taxes for this parcel are past due as...</td>\n",
       "    </tr>\n",
       "    <tr>\n",
       "      <th>57</th>\n",
       "      <td>'taxdelinquencyyear'</td>\n",
       "      <td>Year for which the unpaid propert taxes were due</td>\n",
       "    </tr>\n",
       "  </tbody>\n",
       "</table>\n",
       "</div>"
      ],
      "text/plain": [
       "                           Feature  \\\n",
       "0          'airconditioningtypeid'   \n",
       "1       'architecturalstyletypeid'   \n",
       "2                   'basementsqft'   \n",
       "3                    'bathroomcnt'   \n",
       "4                     'bedroomcnt'   \n",
       "5          'buildingqualitytypeid'   \n",
       "6            'buildingclasstypeid'   \n",
       "7              'calculatedbathnbr'   \n",
       "8                     'decktypeid'   \n",
       "9            'threequarterbathnbr'   \n",
       "10      'finishedfloor1squarefeet'   \n",
       "11  'calculatedfinishedsquarefeet'   \n",
       "12           'finishedsquarefeet6'   \n",
       "13          'finishedsquarefeet12'   \n",
       "14          'finishedsquarefeet13'   \n",
       "15          'finishedsquarefeet15'   \n",
       "16          'finishedsquarefeet50'   \n",
       "17                          'fips'   \n",
       "18                  'fireplacecnt'   \n",
       "19                 'fireplaceflag'   \n",
       "20                   'fullbathcnt'   \n",
       "21                  'garagecarcnt'   \n",
       "22               'garagetotalsqft'   \n",
       "23                'hashottuborspa'   \n",
       "24         'heatingorsystemtypeid'   \n",
       "25                      'latitude'   \n",
       "26                     'longitude'   \n",
       "27             'lotsizesquarefeet'   \n",
       "28               'numberofstories'   \n",
       "29                      'parcelid'   \n",
       "30                       'poolcnt'   \n",
       "31                   'poolsizesum'   \n",
       "32                  'pooltypeid10'   \n",
       "33                   'pooltypeid2'   \n",
       "34                   'pooltypeid7'   \n",
       "35     'propertycountylandusecode'   \n",
       "36         'propertylandusetypeid'   \n",
       "37            'propertyzoningdesc'   \n",
       "38        'rawcensustractandblock'   \n",
       "39           'censustractandblock'   \n",
       "40                'regionidcounty'   \n",
       "41                  'regionidcity'   \n",
       "42                   'regionidzip'   \n",
       "43          'regionidneighborhood'   \n",
       "44                       'roomcnt'   \n",
       "45                   'storytypeid'   \n",
       "46        'typeconstructiontypeid'   \n",
       "47                       'unitcnt'   \n",
       "48            'yardbuildingsqft17'   \n",
       "49            'yardbuildingsqft26'   \n",
       "50                     'yearbuilt'   \n",
       "51             'taxvaluedollarcnt'   \n",
       "52    'structuretaxvaluedollarcnt'   \n",
       "53         'landtaxvaluedollarcnt'   \n",
       "54                     'taxamount'   \n",
       "55                'assessmentyear'   \n",
       "56            'taxdelinquencyflag'   \n",
       "57            'taxdelinquencyyear'   \n",
       "\n",
       "                                          Description  \n",
       "0    Type of cooling system present in the home (i...  \n",
       "1    Architectural style of the home (i.e. ranch, ...  \n",
       "2    Finished living area below or partially below...  \n",
       "3    Number of bathrooms in home including fractio...  \n",
       "4                         Number of bedrooms in home   \n",
       "5    Overall assessment of condition of the buildi...  \n",
       "6   The building framing type (steel frame, wood f...  \n",
       "7    Number of bathrooms in home including fractio...  \n",
       "8             Type of deck (if any) present on parcel  \n",
       "9    Number of 3/4 bathrooms in house (shower + si...  \n",
       "10   Size of the finished living area on the first...  \n",
       "11   Calculated total finished living area of the ...  \n",
       "12                  Base unfinished and finished area  \n",
       "13                               Finished living area  \n",
       "14                             Perimeter  living area  \n",
       "15                                         Total area  \n",
       "16   Size of the finished living area on the first...  \n",
       "17   Federal Information Processing Standard code ...  \n",
       "18            Number of fireplaces in a home (if any)  \n",
       "19               Is a fireplace present in this home   \n",
       "20   Number of full bathrooms (sink, shower + bath...  \n",
       "21   Total number of garages on the lot including ...  \n",
       "22   Total number of square feet of all garages on...  \n",
       "23                Does the home have a hot tub or spa  \n",
       "24                        Type of home heating system  \n",
       "25   Latitude of the middle of the parcel multipli...  \n",
       "26   Longitude of the middle of the parcel multipl...  \n",
       "27                     Area of the lot in square feet  \n",
       "28           Number of stories or levels the home has  \n",
       "29              Unique identifier for parcels (lots)   \n",
       "30                Number of pools on the lot (if any)  \n",
       "31      Total square footage of all pools on property  \n",
       "32                                     Spa or Hot Tub  \n",
       "33                              Pool with Spa/Hot Tub  \n",
       "34                               Pool without hot tub  \n",
       "35   County land use code i.e. it's zoning at the ...  \n",
       "36         Type of land use the property is zoned for  \n",
       "37   Description of the allowed land uses (zoning)...  \n",
       "38   Census tract and block ID combined - also con...  \n",
       "39   Census tract and block ID combined - also con...  \n",
       "40            County in which the property is located  \n",
       "41     City in which the property is located (if any)  \n",
       "42          Zip code in which the property is located  \n",
       "43      Neighborhood in which the property is located  \n",
       "44   Total number of rooms in the principal residence  \n",
       "45   Type of floors in a multi-story house (i.e. b...  \n",
       "46   What type of construction material was used t...  \n",
       "47   Number of units the structure is built into (...  \n",
       "48                                     Patio in  yard  \n",
       "49                      Storage shed/building in yard  \n",
       "50        The Year the principal residence was built   \n",
       "51         The total tax assessed value of the parcel  \n",
       "52  The assessed value of the built structure on t...  \n",
       "53  The assessed value of the land area of the parcel  \n",
       "54  The total property tax assessed for that asses...  \n",
       "55           The year of the property tax assessment   \n",
       "56  Property taxes for this parcel are past due as...  \n",
       "57  Year for which the unpaid propert taxes were due   "
      ]
     },
     "execution_count": 5,
     "metadata": {},
     "output_type": "execute_result"
    }
   ],
   "source": [
    "# zillow_dict explains the fields of the available data\n",
    "path = os.getcwd()\n",
    "parent_path = os.path.abspath(os.path.join(path, os.pardir))\n",
    "data_path = '\\\\data\\\\raw_data\\\\'\n",
    "\n",
    "zillow_dict = pd.read_excel(parent_path + data_path + 'zillow_data_dictionary.xlsx')\n",
    "zillow_dict"
   ]
  },
  {
   "cell_type": "code",
   "execution_count": 6,
   "metadata": {
    "id": "hObuOG7ue52H"
   },
   "outputs": [
    {
     "name": "stderr",
     "output_type": "stream",
     "text": [
      "C:\\Users\\lucap\\AppData\\Local\\Temp\\ipykernel_10000\\3558389239.py:2: DtypeWarning: Columns (22,32,34,49,55) have mixed types. Specify dtype option on import or set low_memory=False.\n",
      "  df_2016 = pd.read_csv(parent_path + data_path + 'properties_2016.csv')\n"
     ]
    }
   ],
   "source": [
    "# Import the file into our working environment\n",
    "df_2016 = pd.read_csv(parent_path + data_path + 'properties_2016.csv')"
   ]
  },
  {
   "cell_type": "code",
   "execution_count": 7,
   "metadata": {},
   "outputs": [
    {
     "name": "stderr",
     "output_type": "stream",
     "text": [
      "C:\\Users\\lucap\\AppData\\Local\\Temp\\ipykernel_10000\\474903403.py:2: DtypeWarning: Columns (49) have mixed types. Specify dtype option on import or set low_memory=False.\n",
      "  df_2017 = pd.read_csv(parent_path + data_path + 'properties_2017.csv')\n"
     ]
    }
   ],
   "source": [
    "# Import the file into our working environment\n",
    "df_2017 = pd.read_csv(parent_path + data_path + 'properties_2017.csv')"
   ]
  },
  {
   "cell_type": "code",
   "execution_count": 8,
   "metadata": {},
   "outputs": [
    {
     "name": "stdout",
     "output_type": "stream",
     "text": [
      "DataFrame df_2016 has shape =  (2985217, 58)\n",
      "DataFrame df_2017 has shape =  (2985217, 58)\n"
     ]
    }
   ],
   "source": [
    "print('DataFrame df_2016 has shape = ', df_2016.shape)\n",
    "print('DataFrame df_2017 has shape = ', df_2017.shape)"
   ]
  },
  {
   "cell_type": "code",
   "execution_count": 9,
   "metadata": {},
   "outputs": [
    {
     "data": {
      "text/html": [
       "<div>\n",
       "<style scoped>\n",
       "    .dataframe tbody tr th:only-of-type {\n",
       "        vertical-align: middle;\n",
       "    }\n",
       "\n",
       "    .dataframe tbody tr th {\n",
       "        vertical-align: top;\n",
       "    }\n",
       "\n",
       "    .dataframe thead th {\n",
       "        text-align: right;\n",
       "    }\n",
       "</style>\n",
       "<table border=\"1\" class=\"dataframe\">\n",
       "  <thead>\n",
       "    <tr style=\"text-align: right;\">\n",
       "      <th></th>\n",
       "      <th>parcelid</th>\n",
       "      <th>airconditioningtypeid</th>\n",
       "      <th>architecturalstyletypeid</th>\n",
       "      <th>basementsqft</th>\n",
       "      <th>bathroomcnt</th>\n",
       "      <th>bedroomcnt</th>\n",
       "      <th>buildingclasstypeid</th>\n",
       "      <th>buildingqualitytypeid</th>\n",
       "      <th>calculatedbathnbr</th>\n",
       "      <th>decktypeid</th>\n",
       "      <th>...</th>\n",
       "      <th>numberofstories</th>\n",
       "      <th>fireplaceflag</th>\n",
       "      <th>structuretaxvaluedollarcnt</th>\n",
       "      <th>taxvaluedollarcnt</th>\n",
       "      <th>assessmentyear</th>\n",
       "      <th>landtaxvaluedollarcnt</th>\n",
       "      <th>taxamount</th>\n",
       "      <th>taxdelinquencyflag</th>\n",
       "      <th>taxdelinquencyyear</th>\n",
       "      <th>censustractandblock</th>\n",
       "    </tr>\n",
       "  </thead>\n",
       "  <tbody>\n",
       "    <tr>\n",
       "      <th>0</th>\n",
       "      <td>10754147</td>\n",
       "      <td>NaN</td>\n",
       "      <td>NaN</td>\n",
       "      <td>NaN</td>\n",
       "      <td>0.0</td>\n",
       "      <td>0.0</td>\n",
       "      <td>NaN</td>\n",
       "      <td>NaN</td>\n",
       "      <td>NaN</td>\n",
       "      <td>NaN</td>\n",
       "      <td>...</td>\n",
       "      <td>NaN</td>\n",
       "      <td>NaN</td>\n",
       "      <td>NaN</td>\n",
       "      <td>9.0</td>\n",
       "      <td>2016.0</td>\n",
       "      <td>9.0</td>\n",
       "      <td>NaN</td>\n",
       "      <td>NaN</td>\n",
       "      <td>NaN</td>\n",
       "      <td>NaN</td>\n",
       "    </tr>\n",
       "    <tr>\n",
       "      <th>1</th>\n",
       "      <td>10759547</td>\n",
       "      <td>NaN</td>\n",
       "      <td>NaN</td>\n",
       "      <td>NaN</td>\n",
       "      <td>0.0</td>\n",
       "      <td>0.0</td>\n",
       "      <td>NaN</td>\n",
       "      <td>NaN</td>\n",
       "      <td>NaN</td>\n",
       "      <td>NaN</td>\n",
       "      <td>...</td>\n",
       "      <td>NaN</td>\n",
       "      <td>NaN</td>\n",
       "      <td>NaN</td>\n",
       "      <td>27516.0</td>\n",
       "      <td>2015.0</td>\n",
       "      <td>27516.0</td>\n",
       "      <td>NaN</td>\n",
       "      <td>NaN</td>\n",
       "      <td>NaN</td>\n",
       "      <td>NaN</td>\n",
       "    </tr>\n",
       "    <tr>\n",
       "      <th>2</th>\n",
       "      <td>10843547</td>\n",
       "      <td>NaN</td>\n",
       "      <td>NaN</td>\n",
       "      <td>NaN</td>\n",
       "      <td>0.0</td>\n",
       "      <td>0.0</td>\n",
       "      <td>5.0</td>\n",
       "      <td>NaN</td>\n",
       "      <td>NaN</td>\n",
       "      <td>NaN</td>\n",
       "      <td>...</td>\n",
       "      <td>1.0</td>\n",
       "      <td>NaN</td>\n",
       "      <td>660680.0</td>\n",
       "      <td>1434941.0</td>\n",
       "      <td>2016.0</td>\n",
       "      <td>774261.0</td>\n",
       "      <td>20800.37</td>\n",
       "      <td>NaN</td>\n",
       "      <td>NaN</td>\n",
       "      <td>NaN</td>\n",
       "    </tr>\n",
       "    <tr>\n",
       "      <th>3</th>\n",
       "      <td>10859147</td>\n",
       "      <td>NaN</td>\n",
       "      <td>NaN</td>\n",
       "      <td>NaN</td>\n",
       "      <td>0.0</td>\n",
       "      <td>0.0</td>\n",
       "      <td>3.0</td>\n",
       "      <td>6.0</td>\n",
       "      <td>NaN</td>\n",
       "      <td>NaN</td>\n",
       "      <td>...</td>\n",
       "      <td>1.0</td>\n",
       "      <td>NaN</td>\n",
       "      <td>580059.0</td>\n",
       "      <td>1174475.0</td>\n",
       "      <td>2016.0</td>\n",
       "      <td>594416.0</td>\n",
       "      <td>14557.57</td>\n",
       "      <td>NaN</td>\n",
       "      <td>NaN</td>\n",
       "      <td>NaN</td>\n",
       "    </tr>\n",
       "    <tr>\n",
       "      <th>4</th>\n",
       "      <td>10879947</td>\n",
       "      <td>NaN</td>\n",
       "      <td>NaN</td>\n",
       "      <td>NaN</td>\n",
       "      <td>0.0</td>\n",
       "      <td>0.0</td>\n",
       "      <td>4.0</td>\n",
       "      <td>NaN</td>\n",
       "      <td>NaN</td>\n",
       "      <td>NaN</td>\n",
       "      <td>...</td>\n",
       "      <td>1.0</td>\n",
       "      <td>NaN</td>\n",
       "      <td>196751.0</td>\n",
       "      <td>440101.0</td>\n",
       "      <td>2016.0</td>\n",
       "      <td>243350.0</td>\n",
       "      <td>5725.17</td>\n",
       "      <td>NaN</td>\n",
       "      <td>NaN</td>\n",
       "      <td>NaN</td>\n",
       "    </tr>\n",
       "  </tbody>\n",
       "</table>\n",
       "<p>5 rows × 58 columns</p>\n",
       "</div>"
      ],
      "text/plain": [
       "   parcelid  airconditioningtypeid  architecturalstyletypeid  basementsqft  \\\n",
       "0  10754147                    NaN                       NaN           NaN   \n",
       "1  10759547                    NaN                       NaN           NaN   \n",
       "2  10843547                    NaN                       NaN           NaN   \n",
       "3  10859147                    NaN                       NaN           NaN   \n",
       "4  10879947                    NaN                       NaN           NaN   \n",
       "\n",
       "   bathroomcnt  bedroomcnt  buildingclasstypeid  buildingqualitytypeid  \\\n",
       "0          0.0         0.0                  NaN                    NaN   \n",
       "1          0.0         0.0                  NaN                    NaN   \n",
       "2          0.0         0.0                  5.0                    NaN   \n",
       "3          0.0         0.0                  3.0                    6.0   \n",
       "4          0.0         0.0                  4.0                    NaN   \n",
       "\n",
       "   calculatedbathnbr  decktypeid  ...  numberofstories  fireplaceflag  \\\n",
       "0                NaN         NaN  ...              NaN            NaN   \n",
       "1                NaN         NaN  ...              NaN            NaN   \n",
       "2                NaN         NaN  ...              1.0            NaN   \n",
       "3                NaN         NaN  ...              1.0            NaN   \n",
       "4                NaN         NaN  ...              1.0            NaN   \n",
       "\n",
       "   structuretaxvaluedollarcnt  taxvaluedollarcnt  assessmentyear  \\\n",
       "0                         NaN                9.0          2016.0   \n",
       "1                         NaN            27516.0          2015.0   \n",
       "2                    660680.0          1434941.0          2016.0   \n",
       "3                    580059.0          1174475.0          2016.0   \n",
       "4                    196751.0           440101.0          2016.0   \n",
       "\n",
       "   landtaxvaluedollarcnt  taxamount  taxdelinquencyflag  taxdelinquencyyear  \\\n",
       "0                    9.0        NaN                 NaN                 NaN   \n",
       "1                27516.0        NaN                 NaN                 NaN   \n",
       "2               774261.0   20800.37                 NaN                 NaN   \n",
       "3               594416.0   14557.57                 NaN                 NaN   \n",
       "4               243350.0    5725.17                 NaN                 NaN   \n",
       "\n",
       "   censustractandblock  \n",
       "0                  NaN  \n",
       "1                  NaN  \n",
       "2                  NaN  \n",
       "3                  NaN  \n",
       "4                  NaN  \n",
       "\n",
       "[5 rows x 58 columns]"
      ]
     },
     "execution_count": 9,
     "metadata": {},
     "output_type": "execute_result"
    }
   ],
   "source": [
    "df_2017.head()"
   ]
  },
  {
   "cell_type": "code",
   "execution_count": 10,
   "metadata": {},
   "outputs": [
    {
     "name": "stdout",
     "output_type": "stream",
     "text": [
      "We found 0 common parcelid in the two DataFrames \n"
     ]
    }
   ],
   "source": [
    "#Check if there are new parcelid in the two dataframe: df_2016 and df_2017\n",
    "union = pd.Series(np.union1d(df_2016.parcelid, df_2017.parcelid)) \n",
    "intersect = pd.Series(np.intersect1d(df_2016.parcelid, df_2017.parcelid))  \n",
    "notcommonseries = union[~union.isin(intersect)] \n",
    "print('We found {} common parcelid in the two DataFrames '.format(len(notcommonseries)))"
   ]
  },
  {
   "cell_type": "code",
   "execution_count": 11,
   "metadata": {},
   "outputs": [
    {
     "name": "stdout",
     "output_type": "stream",
     "text": [
      "We found 2985217 unique parcelid in the DataFrame df_2017 \n"
     ]
    }
   ],
   "source": [
    "print('We found {} unique parcelid in the DataFrame df_2017 '.format(len(df_2017.parcelid.unique())))"
   ]
  },
  {
   "cell_type": "code",
   "execution_count": 12,
   "metadata": {},
   "outputs": [],
   "source": [
    "df = df_2017"
   ]
  },
  {
   "cell_type": "code",
   "execution_count": 13,
   "metadata": {
    "colab": {
     "base_uri": "https://localhost:8080/"
    },
    "id": "FgioMbNpml-s",
    "outputId": "6ab4144e-391e-4af6-c348-de22e8c1f8b2"
   },
   "outputs": [
    {
     "name": "stdout",
     "output_type": "stream",
     "text": [
      "<class 'pandas.core.frame.DataFrame'>\n",
      "RangeIndex: 2985217 entries, 0 to 2985216\n",
      "Data columns (total 58 columns):\n",
      " #   Column                        Non-Null Count    Dtype  \n",
      "---  ------                        --------------    -----  \n",
      " 0   parcelid                      2985217 non-null  int64  \n",
      " 1   airconditioningtypeid         815362 non-null   float64\n",
      " 2   architecturalstyletypeid      6061 non-null     float64\n",
      " 3   basementsqft                  1627 non-null     float64\n",
      " 4   bathroomcnt                   2982260 non-null  float64\n",
      " 5   bedroomcnt                    2982272 non-null  float64\n",
      " 6   buildingclasstypeid           12731 non-null    float64\n",
      " 7   buildingqualitytypeid         1941395 non-null  float64\n",
      " 8   calculatedbathnbr             2868061 non-null  float64\n",
      " 9   decktypeid                    17379 non-null    float64\n",
      " 10  finishedfloor1squarefeet      203758 non-null   float64\n",
      " 11  calculatedfinishedsquarefeet  2940120 non-null  float64\n",
      " 12  finishedsquarefeet12          2720786 non-null  float64\n",
      " 13  finishedsquarefeet13          7671 non-null     float64\n",
      " 14  finishedsquarefeet15          190185 non-null   float64\n",
      " 15  finishedsquarefeet50          203758 non-null   float64\n",
      " 16  finishedsquarefeet6           21482 non-null    float64\n",
      " 17  fips                          2982285 non-null  float64\n",
      " 18  fireplacecnt                  313124 non-null   float64\n",
      " 19  fullbathcnt                   2868061 non-null  float64\n",
      " 20  garagecarcnt                  891008 non-null   float64\n",
      " 21  garagetotalsqft               891008 non-null   float64\n",
      " 22  hashottuborspa                50062 non-null    object \n",
      " 23  heatingorsystemtypeid         1869164 non-null  float64\n",
      " 24  latitude                      2982285 non-null  float64\n",
      " 25  longitude                     2982285 non-null  float64\n",
      " 26  lotsizesquarefeet             2712511 non-null  float64\n",
      " 27  poolcnt                       539632 non-null   float64\n",
      " 28  poolsizesum                   27958 non-null    float64\n",
      " 29  pooltypeid10                  17006 non-null    float64\n",
      " 30  pooltypeid2                   33056 non-null    float64\n",
      " 31  pooltypeid7                   505895 non-null   float64\n",
      " 32  propertycountylandusecode     2982218 non-null  object \n",
      " 33  propertylandusetypeid         2982285 non-null  float64\n",
      " 34  propertyzoningdesc            1982471 non-null  object \n",
      " 35  rawcensustractandblock        2982285 non-null  float64\n",
      " 36  regionidcity                  2923089 non-null  float64\n",
      " 37  regionidcounty                2982285 non-null  float64\n",
      " 38  regionidneighborhood          1156741 non-null  float64\n",
      " 39  regionidzip                   2972503 non-null  float64\n",
      " 40  roomcnt                       2982248 non-null  float64\n",
      " 41  storytypeid                   1623 non-null     float64\n",
      " 42  threequarterbathnbr           316357 non-null   float64\n",
      " 43  typeconstructiontypeid        6746 non-null     float64\n",
      " 44  unitcnt                       1981042 non-null  float64\n",
      " 45  yardbuildingsqft17            81588 non-null    float64\n",
      " 46  yardbuildingsqft26            2646 non-null     float64\n",
      " 47  yearbuilt                     2937384 non-null  float64\n",
      " 48  numberofstories               685676 non-null   float64\n",
      " 49  fireplaceflag                 5163 non-null     object \n",
      " 50  structuretaxvaluedollarcnt    2938753 non-null  float64\n",
      " 51  taxvaluedollarcnt             2950951 non-null  float64\n",
      " 52  assessmentyear                2982284 non-null  float64\n",
      " 53  landtaxvaluedollarcnt         2925291 non-null  float64\n",
      " 54  taxamount                     2962465 non-null  float64\n",
      " 55  taxdelinquencyflag            56515 non-null    object \n",
      " 56  taxdelinquencyyear            56517 non-null    float64\n",
      " 57  censustractandblock           2910232 non-null  float64\n",
      "dtypes: float64(52), int64(1), object(5)\n",
      "memory usage: 1.3+ GB\n"
     ]
    }
   ],
   "source": [
    "df.info(verbose=True, show_counts=True)"
   ]
  },
  {
   "cell_type": "code",
   "execution_count": 14,
   "metadata": {},
   "outputs": [
    {
     "data": {
      "text/html": [
       "<div>\n",
       "<style scoped>\n",
       "    .dataframe tbody tr th:only-of-type {\n",
       "        vertical-align: middle;\n",
       "    }\n",
       "\n",
       "    .dataframe tbody tr th {\n",
       "        vertical-align: top;\n",
       "    }\n",
       "\n",
       "    .dataframe thead th {\n",
       "        text-align: right;\n",
       "    }\n",
       "</style>\n",
       "<table border=\"1\" class=\"dataframe\">\n",
       "  <thead>\n",
       "    <tr style=\"text-align: right;\">\n",
       "      <th></th>\n",
       "      <th>parcelid</th>\n",
       "      <th>airconditioningtypeid</th>\n",
       "      <th>architecturalstyletypeid</th>\n",
       "      <th>basementsqft</th>\n",
       "      <th>bathroomcnt</th>\n",
       "      <th>bedroomcnt</th>\n",
       "      <th>buildingclasstypeid</th>\n",
       "      <th>buildingqualitytypeid</th>\n",
       "      <th>calculatedbathnbr</th>\n",
       "      <th>decktypeid</th>\n",
       "      <th>...</th>\n",
       "      <th>yardbuildingsqft26</th>\n",
       "      <th>yearbuilt</th>\n",
       "      <th>numberofstories</th>\n",
       "      <th>structuretaxvaluedollarcnt</th>\n",
       "      <th>taxvaluedollarcnt</th>\n",
       "      <th>assessmentyear</th>\n",
       "      <th>landtaxvaluedollarcnt</th>\n",
       "      <th>taxamount</th>\n",
       "      <th>taxdelinquencyyear</th>\n",
       "      <th>censustractandblock</th>\n",
       "    </tr>\n",
       "  </thead>\n",
       "  <tbody>\n",
       "    <tr>\n",
       "      <th>count</th>\n",
       "      <td>2.985217e+06</td>\n",
       "      <td>815362.000000</td>\n",
       "      <td>6061.000000</td>\n",
       "      <td>1627.000000</td>\n",
       "      <td>2.982260e+06</td>\n",
       "      <td>2.982272e+06</td>\n",
       "      <td>12731.000000</td>\n",
       "      <td>1.941395e+06</td>\n",
       "      <td>2.868061e+06</td>\n",
       "      <td>17379.0</td>\n",
       "      <td>...</td>\n",
       "      <td>2646.000000</td>\n",
       "      <td>2.937384e+06</td>\n",
       "      <td>685676.000000</td>\n",
       "      <td>2.938753e+06</td>\n",
       "      <td>2.950951e+06</td>\n",
       "      <td>2.982284e+06</td>\n",
       "      <td>2.925291e+06</td>\n",
       "      <td>2.962465e+06</td>\n",
       "      <td>56517.000000</td>\n",
       "      <td>2.910232e+06</td>\n",
       "    </tr>\n",
       "    <tr>\n",
       "      <th>mean</th>\n",
       "      <td>1.332586e+07</td>\n",
       "      <td>1.945723</td>\n",
       "      <td>7.202607</td>\n",
       "      <td>647.220652</td>\n",
       "      <td>2.216196e+00</td>\n",
       "      <td>3.093362e+00</td>\n",
       "      <td>3.734742</td>\n",
       "      <td>6.280822e+00</td>\n",
       "      <td>2.303826e+00</td>\n",
       "      <td>66.0</td>\n",
       "      <td>...</td>\n",
       "      <td>278.365457</td>\n",
       "      <td>1.964438e+03</td>\n",
       "      <td>1.400956</td>\n",
       "      <td>1.781429e+05</td>\n",
       "      <td>4.435279e+05</td>\n",
       "      <td>2.015998e+03</td>\n",
       "      <td>2.684558e+05</td>\n",
       "      <td>5.408949e+03</td>\n",
       "      <td>13.891696</td>\n",
       "      <td>6.048434e+13</td>\n",
       "    </tr>\n",
       "    <tr>\n",
       "      <th>std</th>\n",
       "      <td>7.909966e+06</td>\n",
       "      <td>3.160507</td>\n",
       "      <td>2.436290</td>\n",
       "      <td>538.787104</td>\n",
       "      <td>1.078250e+00</td>\n",
       "      <td>1.271569e+00</td>\n",
       "      <td>0.500371</td>\n",
       "      <td>1.729923e+00</td>\n",
       "      <td>1.003243e+00</td>\n",
       "      <td>0.0</td>\n",
       "      <td>...</td>\n",
       "      <td>369.784399</td>\n",
       "      <td>2.364428e+01</td>\n",
       "      <td>0.539056</td>\n",
       "      <td>4.600503e+05</td>\n",
       "      <td>8.163366e+05</td>\n",
       "      <td>6.039949e-02</td>\n",
       "      <td>4.865097e+05</td>\n",
       "      <td>9.675567e+03</td>\n",
       "      <td>2.562172</td>\n",
       "      <td>3.249133e+11</td>\n",
       "    </tr>\n",
       "    <tr>\n",
       "      <th>min</th>\n",
       "      <td>1.071172e+07</td>\n",
       "      <td>1.000000</td>\n",
       "      <td>2.000000</td>\n",
       "      <td>20.000000</td>\n",
       "      <td>0.000000e+00</td>\n",
       "      <td>0.000000e+00</td>\n",
       "      <td>1.000000</td>\n",
       "      <td>1.000000e+00</td>\n",
       "      <td>1.000000e+00</td>\n",
       "      <td>66.0</td>\n",
       "      <td>...</td>\n",
       "      <td>10.000000</td>\n",
       "      <td>1.801000e+03</td>\n",
       "      <td>1.000000</td>\n",
       "      <td>1.000000e+00</td>\n",
       "      <td>1.000000e+00</td>\n",
       "      <td>2.000000e+03</td>\n",
       "      <td>1.000000e+00</td>\n",
       "      <td>2.400000e-01</td>\n",
       "      <td>0.000000</td>\n",
       "      <td>-1.000000e+00</td>\n",
       "    </tr>\n",
       "    <tr>\n",
       "      <th>25%</th>\n",
       "      <td>1.164371e+07</td>\n",
       "      <td>1.000000</td>\n",
       "      <td>7.000000</td>\n",
       "      <td>272.000000</td>\n",
       "      <td>2.000000e+00</td>\n",
       "      <td>2.000000e+00</td>\n",
       "      <td>3.000000</td>\n",
       "      <td>5.000000e+00</td>\n",
       "      <td>2.000000e+00</td>\n",
       "      <td>66.0</td>\n",
       "      <td>...</td>\n",
       "      <td>96.000000</td>\n",
       "      <td>1.950000e+03</td>\n",
       "      <td>1.000000</td>\n",
       "      <td>7.766600e+04</td>\n",
       "      <td>1.882200e+05</td>\n",
       "      <td>2.016000e+03</td>\n",
       "      <td>7.970000e+04</td>\n",
       "      <td>2.468620e+03</td>\n",
       "      <td>14.000000</td>\n",
       "      <td>6.037400e+13</td>\n",
       "    </tr>\n",
       "    <tr>\n",
       "      <th>50%</th>\n",
       "      <td>1.254509e+07</td>\n",
       "      <td>1.000000</td>\n",
       "      <td>7.000000</td>\n",
       "      <td>535.000000</td>\n",
       "      <td>2.000000e+00</td>\n",
       "      <td>3.000000e+00</td>\n",
       "      <td>4.000000</td>\n",
       "      <td>6.000000e+00</td>\n",
       "      <td>2.000000e+00</td>\n",
       "      <td>66.0</td>\n",
       "      <td>...</td>\n",
       "      <td>168.000000</td>\n",
       "      <td>1.963000e+03</td>\n",
       "      <td>1.000000</td>\n",
       "      <td>1.270660e+05</td>\n",
       "      <td>3.211610e+05</td>\n",
       "      <td>2.016000e+03</td>\n",
       "      <td>1.766190e+05</td>\n",
       "      <td>4.007620e+03</td>\n",
       "      <td>14.000000</td>\n",
       "      <td>6.037572e+13</td>\n",
       "    </tr>\n",
       "    <tr>\n",
       "      <th>75%</th>\n",
       "      <td>1.409712e+07</td>\n",
       "      <td>1.000000</td>\n",
       "      <td>7.000000</td>\n",
       "      <td>847.500000</td>\n",
       "      <td>3.000000e+00</td>\n",
       "      <td>4.000000e+00</td>\n",
       "      <td>4.000000</td>\n",
       "      <td>8.000000e+00</td>\n",
       "      <td>3.000000e+00</td>\n",
       "      <td>66.0</td>\n",
       "      <td>...</td>\n",
       "      <td>320.000000</td>\n",
       "      <td>1.981000e+03</td>\n",
       "      <td>2.000000</td>\n",
       "      <td>2.040000e+05</td>\n",
       "      <td>5.140720e+05</td>\n",
       "      <td>2.016000e+03</td>\n",
       "      <td>3.261000e+05</td>\n",
       "      <td>6.230500e+03</td>\n",
       "      <td>15.000000</td>\n",
       "      <td>6.059042e+13</td>\n",
       "    </tr>\n",
       "    <tr>\n",
       "      <th>max</th>\n",
       "      <td>1.696019e+08</td>\n",
       "      <td>13.000000</td>\n",
       "      <td>27.000000</td>\n",
       "      <td>8516.000000</td>\n",
       "      <td>3.200000e+01</td>\n",
       "      <td>2.500000e+01</td>\n",
       "      <td>5.000000</td>\n",
       "      <td>1.200000e+01</td>\n",
       "      <td>3.200000e+01</td>\n",
       "      <td>66.0</td>\n",
       "      <td>...</td>\n",
       "      <td>6141.000000</td>\n",
       "      <td>2.016000e+03</td>\n",
       "      <td>41.000000</td>\n",
       "      <td>2.553212e+08</td>\n",
       "      <td>3.196225e+08</td>\n",
       "      <td>2.016000e+03</td>\n",
       "      <td>9.401108e+07</td>\n",
       "      <td>3.823176e+06</td>\n",
       "      <td>99.000000</td>\n",
       "      <td>4.830301e+14</td>\n",
       "    </tr>\n",
       "  </tbody>\n",
       "</table>\n",
       "<p>8 rows × 53 columns</p>\n",
       "</div>"
      ],
      "text/plain": [
       "           parcelid  airconditioningtypeid  architecturalstyletypeid  \\\n",
       "count  2.985217e+06          815362.000000               6061.000000   \n",
       "mean   1.332586e+07               1.945723                  7.202607   \n",
       "std    7.909966e+06               3.160507                  2.436290   \n",
       "min    1.071172e+07               1.000000                  2.000000   \n",
       "25%    1.164371e+07               1.000000                  7.000000   \n",
       "50%    1.254509e+07               1.000000                  7.000000   \n",
       "75%    1.409712e+07               1.000000                  7.000000   \n",
       "max    1.696019e+08              13.000000                 27.000000   \n",
       "\n",
       "       basementsqft   bathroomcnt    bedroomcnt  buildingclasstypeid  \\\n",
       "count   1627.000000  2.982260e+06  2.982272e+06         12731.000000   \n",
       "mean     647.220652  2.216196e+00  3.093362e+00             3.734742   \n",
       "std      538.787104  1.078250e+00  1.271569e+00             0.500371   \n",
       "min       20.000000  0.000000e+00  0.000000e+00             1.000000   \n",
       "25%      272.000000  2.000000e+00  2.000000e+00             3.000000   \n",
       "50%      535.000000  2.000000e+00  3.000000e+00             4.000000   \n",
       "75%      847.500000  3.000000e+00  4.000000e+00             4.000000   \n",
       "max     8516.000000  3.200000e+01  2.500000e+01             5.000000   \n",
       "\n",
       "       buildingqualitytypeid  calculatedbathnbr  decktypeid  ...  \\\n",
       "count           1.941395e+06       2.868061e+06     17379.0  ...   \n",
       "mean            6.280822e+00       2.303826e+00        66.0  ...   \n",
       "std             1.729923e+00       1.003243e+00         0.0  ...   \n",
       "min             1.000000e+00       1.000000e+00        66.0  ...   \n",
       "25%             5.000000e+00       2.000000e+00        66.0  ...   \n",
       "50%             6.000000e+00       2.000000e+00        66.0  ...   \n",
       "75%             8.000000e+00       3.000000e+00        66.0  ...   \n",
       "max             1.200000e+01       3.200000e+01        66.0  ...   \n",
       "\n",
       "       yardbuildingsqft26     yearbuilt  numberofstories  \\\n",
       "count         2646.000000  2.937384e+06    685676.000000   \n",
       "mean           278.365457  1.964438e+03         1.400956   \n",
       "std            369.784399  2.364428e+01         0.539056   \n",
       "min             10.000000  1.801000e+03         1.000000   \n",
       "25%             96.000000  1.950000e+03         1.000000   \n",
       "50%            168.000000  1.963000e+03         1.000000   \n",
       "75%            320.000000  1.981000e+03         2.000000   \n",
       "max           6141.000000  2.016000e+03        41.000000   \n",
       "\n",
       "       structuretaxvaluedollarcnt  taxvaluedollarcnt  assessmentyear  \\\n",
       "count                2.938753e+06       2.950951e+06    2.982284e+06   \n",
       "mean                 1.781429e+05       4.435279e+05    2.015998e+03   \n",
       "std                  4.600503e+05       8.163366e+05    6.039949e-02   \n",
       "min                  1.000000e+00       1.000000e+00    2.000000e+03   \n",
       "25%                  7.766600e+04       1.882200e+05    2.016000e+03   \n",
       "50%                  1.270660e+05       3.211610e+05    2.016000e+03   \n",
       "75%                  2.040000e+05       5.140720e+05    2.016000e+03   \n",
       "max                  2.553212e+08       3.196225e+08    2.016000e+03   \n",
       "\n",
       "       landtaxvaluedollarcnt     taxamount  taxdelinquencyyear  \\\n",
       "count           2.925291e+06  2.962465e+06        56517.000000   \n",
       "mean            2.684558e+05  5.408949e+03           13.891696   \n",
       "std             4.865097e+05  9.675567e+03            2.562172   \n",
       "min             1.000000e+00  2.400000e-01            0.000000   \n",
       "25%             7.970000e+04  2.468620e+03           14.000000   \n",
       "50%             1.766190e+05  4.007620e+03           14.000000   \n",
       "75%             3.261000e+05  6.230500e+03           15.000000   \n",
       "max             9.401108e+07  3.823176e+06           99.000000   \n",
       "\n",
       "       censustractandblock  \n",
       "count         2.910232e+06  \n",
       "mean          6.048434e+13  \n",
       "std           3.249133e+11  \n",
       "min          -1.000000e+00  \n",
       "25%           6.037400e+13  \n",
       "50%           6.037572e+13  \n",
       "75%           6.059042e+13  \n",
       "max           4.830301e+14  \n",
       "\n",
       "[8 rows x 53 columns]"
      ]
     },
     "execution_count": 14,
     "metadata": {},
     "output_type": "execute_result"
    }
   ],
   "source": [
    "df.describe()"
   ]
  },
  {
   "cell_type": "code",
   "execution_count": 15,
   "metadata": {
    "colab": {
     "base_uri": "https://localhost:8080/"
    },
    "id": "W7sKfv-Ila9L",
    "outputId": "45147119-72f5-462f-e2c3-3bb6600adfc1"
   },
   "outputs": [
    {
     "name": "stdout",
     "output_type": "stream",
     "text": [
      "DataFrame has shape =  (2985217, 58)\n",
      "There are 53 numeric columns\n",
      "----------------\n",
      "And 5 not numeric columns\n",
      "****************\n"
     ]
    }
   ],
   "source": [
    "print('DataFrame has shape = ', df.shape)\n",
    "print('There are {:.0f} numeric columns'.format(df.select_dtypes(include=np.number).shape[1]))\n",
    "num_cols = df.select_dtypes(include=np.number).columns\n",
    "print('----------------')\n",
    "print('And {:.0f} not numeric columns'.format(df.select_dtypes(exclude=np.number).shape[1]))\n",
    "cat_cols = df.select_dtypes(exclude=np.number).columns\n",
    "df.select_dtypes(include='number')\n",
    "print('****************')"
   ]
  },
  {
   "cell_type": "code",
   "execution_count": 16,
   "metadata": {},
   "outputs": [],
   "source": [
    "# We focus our analysis in predicting the record 'taxvaluedollarcnt': The total tax assessed value of the parcel\n",
    "# For this reason we drop the other tax-related columns\n",
    "col2drop = ['structuretaxvaluedollarcnt',\n",
    "            'landtaxvaluedollarcnt',\n",
    "            'taxamount',\n",
    "            'taxdelinquencyflag',\n",
    "            'taxdelinquencyyear']\n",
    "df.drop(col2drop, axis=1, inplace = True)"
   ]
  },
  {
   "cell_type": "code",
   "execution_count": 17,
   "metadata": {},
   "outputs": [],
   "source": [
    "# drop columns which has less than 60% of the entries\n",
    "df_clean = df.dropna(thresh=df.shape[0]*0.6,axis=1)"
   ]
  },
  {
   "cell_type": "code",
   "execution_count": 18,
   "metadata": {},
   "outputs": [
    {
     "name": "stdout",
     "output_type": "stream",
     "text": [
      "<class 'pandas.core.frame.DataFrame'>\n",
      "RangeIndex: 2985217 entries, 0 to 2985216\n",
      "Data columns (total 26 columns):\n",
      " #   Column                        Non-Null Count    Dtype  \n",
      "---  ------                        --------------    -----  \n",
      " 0   parcelid                      2985217 non-null  int64  \n",
      " 1   bathroomcnt                   2982260 non-null  float64\n",
      " 2   bedroomcnt                    2982272 non-null  float64\n",
      " 3   buildingqualitytypeid         1941395 non-null  float64\n",
      " 4   calculatedbathnbr             2868061 non-null  float64\n",
      " 5   calculatedfinishedsquarefeet  2940120 non-null  float64\n",
      " 6   finishedsquarefeet12          2720786 non-null  float64\n",
      " 7   fips                          2982285 non-null  float64\n",
      " 8   fullbathcnt                   2868061 non-null  float64\n",
      " 9   heatingorsystemtypeid         1869164 non-null  float64\n",
      " 10  latitude                      2982285 non-null  float64\n",
      " 11  longitude                     2982285 non-null  float64\n",
      " 12  lotsizesquarefeet             2712511 non-null  float64\n",
      " 13  propertycountylandusecode     2982218 non-null  object \n",
      " 14  propertylandusetypeid         2982285 non-null  float64\n",
      " 15  propertyzoningdesc            1982471 non-null  object \n",
      " 16  rawcensustractandblock        2982285 non-null  float64\n",
      " 17  regionidcity                  2923089 non-null  float64\n",
      " 18  regionidcounty                2982285 non-null  float64\n",
      " 19  regionidzip                   2972503 non-null  float64\n",
      " 20  roomcnt                       2982248 non-null  float64\n",
      " 21  unitcnt                       1981042 non-null  float64\n",
      " 22  yearbuilt                     2937384 non-null  float64\n",
      " 23  taxvaluedollarcnt             2950951 non-null  float64\n",
      " 24  assessmentyear                2982284 non-null  float64\n",
      " 25  censustractandblock           2910232 non-null  float64\n",
      "dtypes: float64(23), int64(1), object(2)\n",
      "memory usage: 592.2+ MB\n"
     ]
    }
   ],
   "source": [
    "df_clean.info(verbose=True, show_counts=True)"
   ]
  },
  {
   "cell_type": "code",
   "execution_count": 22,
   "metadata": {},
   "outputs": [],
   "source": [
    "col2include = ['yearbuilt',\n",
    "                'regionidcity',\n",
    "                'regionidcounty',\n",
    "                'regionidzip',\n",
    "                'roomcnt',\n",
    "                'bathroomcnt',\n",
    "                'bedroomcnt',\n",
    "                'calculatedfinishedsquarefeet',\n",
    "                'lotsizesquarefeet',\n",
    "                'assessmentyear',\n",
    "                'taxvaluedollarcnt']\n",
    "df_filter = df_clean[col2include]"
   ]
  },
  {
   "cell_type": "code",
   "execution_count": 23,
   "metadata": {},
   "outputs": [],
   "source": [
    "# drop records without taxvaluedollarcnt\n",
    "df_filter = df_filter[df_filter['taxvaluedollarcnt'].notna()]"
   ]
  },
  {
   "cell_type": "code",
   "execution_count": 24,
   "metadata": {},
   "outputs": [],
   "source": [
    "# fill nan with the median value\n",
    "df_filter = df_filter.fillna(df_filter.median()) "
   ]
  },
  {
   "cell_type": "code",
   "execution_count": 25,
   "metadata": {},
   "outputs": [
    {
     "name": "stdout",
     "output_type": "stream",
     "text": [
      "<class 'pandas.core.frame.DataFrame'>\n",
      "Index: 2950951 entries, 0 to 2982283\n",
      "Data columns (total 11 columns):\n",
      " #   Column                        Non-Null Count    Dtype  \n",
      "---  ------                        --------------    -----  \n",
      " 0   yearbuilt                     2950951 non-null  float64\n",
      " 1   regionidcity                  2950951 non-null  float64\n",
      " 2   regionidcounty                2950951 non-null  float64\n",
      " 3   regionidzip                   2950951 non-null  float64\n",
      " 4   roomcnt                       2950951 non-null  float64\n",
      " 5   bathroomcnt                   2950951 non-null  float64\n",
      " 6   bedroomcnt                    2950951 non-null  float64\n",
      " 7   calculatedfinishedsquarefeet  2950951 non-null  float64\n",
      " 8   lotsizesquarefeet             2950951 non-null  float64\n",
      " 9   assessmentyear                2950951 non-null  float64\n",
      " 10  taxvaluedollarcnt             2950951 non-null  float64\n",
      "dtypes: float64(11)\n",
      "memory usage: 270.2 MB\n"
     ]
    }
   ],
   "source": [
    "df_filter.info(verbose=True, show_counts=True)"
   ]
  },
  {
   "cell_type": "code",
   "execution_count": 26,
   "metadata": {},
   "outputs": [
    {
     "data": {
      "text/html": [
       "<div>\n",
       "<style scoped>\n",
       "    .dataframe tbody tr th:only-of-type {\n",
       "        vertical-align: middle;\n",
       "    }\n",
       "\n",
       "    .dataframe tbody tr th {\n",
       "        vertical-align: top;\n",
       "    }\n",
       "\n",
       "    .dataframe thead th {\n",
       "        text-align: right;\n",
       "    }\n",
       "</style>\n",
       "<table border=\"1\" class=\"dataframe\">\n",
       "  <thead>\n",
       "    <tr style=\"text-align: right;\">\n",
       "      <th></th>\n",
       "      <th>yearbuilt</th>\n",
       "      <th>regionidcity</th>\n",
       "      <th>regionidcounty</th>\n",
       "      <th>regionidzip</th>\n",
       "      <th>roomcnt</th>\n",
       "      <th>bathroomcnt</th>\n",
       "      <th>bedroomcnt</th>\n",
       "      <th>calculatedfinishedsquarefeet</th>\n",
       "      <th>lotsizesquarefeet</th>\n",
       "      <th>assessmentyear</th>\n",
       "      <th>taxvaluedollarcnt</th>\n",
       "    </tr>\n",
       "  </thead>\n",
       "  <tbody>\n",
       "  </tbody>\n",
       "</table>\n",
       "</div>"
      ],
      "text/plain": [
       "Empty DataFrame\n",
       "Columns: [yearbuilt, regionidcity, regionidcounty, regionidzip, roomcnt, bathroomcnt, bedroomcnt, calculatedfinishedsquarefeet, lotsizesquarefeet, assessmentyear, taxvaluedollarcnt]\n",
       "Index: []"
      ]
     },
     "execution_count": 26,
     "metadata": {},
     "output_type": "execute_result"
    }
   ],
   "source": [
    "df_filter[df_filter.yearbuilt.isna()]"
   ]
  },
  {
   "cell_type": "code",
   "execution_count": 27,
   "metadata": {},
   "outputs": [
    {
     "name": "stdout",
     "output_type": "stream",
     "text": [
      "DataFrame has shape =  (2950951, 10)\n",
      "There are 10 numeric columns and they are:\n",
      "----------------\n",
      "And 0 not numeric columns and they are:\n",
      "****************\n"
     ]
    },
    {
     "data": {
      "image/png": "[encoded data removed]",
      "text/plain": [
       "<Figure size 640x480 with 1 Axes>"
      ]
     },
     "metadata": {},
     "output_type": "display_data"
    }
   ],
   "source": [
    "# PCA: investigate the variance contained in the actual df\n",
    "pca = PCA()\n",
    "#remove the target column 'taxvaluedollarcnt'\n",
    "df_pca = df_filter.loc[:, df_filter.columns != 'taxvaluedollarcnt']\n",
    "\n",
    "print('DataFrame has shape = ', df_pca.shape)\n",
    "print('There are {:.0f} numeric columns and they are:'.format(df_pca.select_dtypes(include=np.number).shape[1]))\n",
    "num_cols = df_pca.select_dtypes(include=np.number).columns\n",
    "print('----------------')\n",
    "print('And {:.0f} not numeric columns and they are:'.format(df_pca.select_dtypes(exclude=np.number).shape[1]))\n",
    "cat_cols = df_pca.select_dtypes(exclude=np.number).columns\n",
    "df.select_dtypes(include='number')\n",
    "print('****************')\n",
    "#remove the not numerical columns\n",
    "df_pca = df_pca[num_cols]\n",
    "X_pca = pca.fit_transform(df_pca)\n",
    "\n",
    "# Plot Explained Variance Ratio\n",
    "explained_var_ratio = pca.explained_variance_ratio_\n",
    "cumulative_var_ratio = np.cumsum(explained_var_ratio)\n",
    "\n",
    "plt.figure()\n",
    "plt.plot(range(1, len(cumulative_var_ratio) + 1), cumulative_var_ratio, marker='o')\n",
    "plt.xlabel('Number of Principal Components')\n",
    "plt.ylabel('Cumulative Explained Variance Ratio')\n",
    "plt.title('Explained Variance Ratio vs. Number of Principal Components')\n",
    "plt.show()"
   ]
  },
  {
   "cell_type": "code",
   "execution_count": 28,
   "metadata": {},
   "outputs": [
    {
     "data": {
      "text/plain": [
       "Index(['yearbuilt', 'regionidcity', 'regionidcounty', 'regionidzip', 'roomcnt',\n",
       "       'bathroomcnt', 'bedroomcnt', 'calculatedfinishedsquarefeet',\n",
       "       'lotsizesquarefeet', 'assessmentyear'],\n",
       "      dtype='object')"
      ]
     },
     "execution_count": 28,
     "metadata": {},
     "output_type": "execute_result"
    }
   ],
   "source": [
    "num_cols"
   ]
  },
  {
   "cell_type": "code",
   "execution_count": 55,
   "metadata": {},
   "outputs": [
    {
     "data": {
      "image/png": "[encoded data removed]",
      "text/plain": [
       "<Figure size 1000x800 with 12 Axes>"
      ]
     },
     "metadata": {},
     "output_type": "display_data"
    }
   ],
   "source": [
    "%matplotlib inline\n",
    "cat_cols  = list(df_filter.select_dtypes(include='object').columns)\n",
    "num_cols = list(df_filter.select_dtypes(include='number').columns)\n",
    "# Create boxplots for all numerical columns\n",
    "fig, axes = plt.subplots(3,4,figsize=(10,8))\n",
    "plt.subplots_adjust(wspace=0.5, hspace=0.5)\n",
    "axes = axes.flatten()\n",
    "for i in range(len(num_cols)):\n",
    "    sns.boxplot(df_filter[num_cols[i]], ax=axes[i])\n",
    "fig.suptitle('Numerical Features Box Plots')\n",
    "plt.show()"
   ]
  },
  {
   "cell_type": "markdown",
   "metadata": {},
   "source": [
    "### Downsample the dataset"
   ]
  },
  {
   "cell_type": "code",
   "execution_count": 41,
   "metadata": {},
   "outputs": [
    {
     "name": "stdout",
     "output_type": "stream",
     "text": [
      "The original df has shape:  (2950951, 11)\n",
      "and the new df has shape: (295095, 11)\n"
     ]
    }
   ],
   "source": [
    "# Randomly sample 5% of the original dataframe\n",
    "df_percent = df_filter.sample(frac=0.1)\n",
    "print('The original df has shape:  %s' % (df_filter.shape,))\n",
    "print('and the new df has shape: %s' % (df_percent.shape,))"
   ]
  },
  {
   "cell_type": "code",
   "execution_count": 42,
   "metadata": {},
   "outputs": [
    {
     "name": "stdout",
     "output_type": "stream",
     "text": [
      "(295095, 10)\n"
     ]
    }
   ],
   "source": [
    "df_label = df_percent['taxvaluedollarcnt']\n",
    "df_data = df_percent.loc[:, df_percent.columns != 'taxvaluedollarcnt']\n",
    "print(df_data.shape)"
   ]
  },
  {
   "cell_type": "code",
   "execution_count": 43,
   "metadata": {},
   "outputs": [
    {
     "data": {
      "text/plain": [
       "Series([], Name: taxvaluedollarcnt, dtype: float64)"
      ]
     },
     "execution_count": 43,
     "metadata": {},
     "output_type": "execute_result"
    }
   ],
   "source": [
    "df_label[df_label.isna()]"
   ]
  },
  {
   "cell_type": "code",
   "execution_count": 44,
   "metadata": {},
   "outputs": [],
   "source": [
    "# Split data into training and testing sets\n",
    "X_train, X_test, y_train, y_test = train_test_split(df_data, df_label, test_size=0.2, random_state=42)"
   ]
  },
  {
   "cell_type": "code",
   "execution_count": 45,
   "metadata": {},
   "outputs": [],
   "source": [
    "import statistics\n",
    "import xgboost as xgb\n",
    "\n",
    "from sklearn.metrics         import mean_squared_error, \\\n",
    "                                    mean_absolute_error, \\\n",
    "                                    mean_squared_log_error, \\\n",
    "                                    r2_score\n",
    "from sklearn.pipeline        import Pipeline\n",
    "from sklearn.preprocessing   import StandardScaler, \\\n",
    "                                    OneHotEncoder\n",
    "from sklearn.compose         import ColumnTransformer\n",
    "from sklearn.impute          import SimpleImputer\n",
    "\n",
    "from sklearn.svm             import SVR\n",
    "from sklearn.tree            import DecisionTreeRegressor\n",
    "from sklearn.linear_model    import LinearRegression, \\\n",
    "                                    BayesianRidge, \\\n",
    "                                    Ridge, \\\n",
    "                                    LassoCV\n",
    "from sklearn.model_selection import KFold, \\\n",
    "                                    cross_val_score, \\\n",
    "                                    train_test_split\n",
    "from sklearn.ensemble        import GradientBoostingRegressor, \\\n",
    "                                    RandomForestRegressor, \\\n",
    "                                    ExtraTreesRegressor, \\\n",
    "                                    AdaBoostRegressor, \\\n",
    "                                    BaggingRegressor, \\\n",
    "                                    StackingRegressor, \\\n",
    "                                    VotingRegressor\n",
    "from sklearn.neighbors       import KNeighborsRegressor\n",
    "from sklearn.neural_network  import MLPRegressor"
   ]
  },
  {
   "cell_type": "code",
   "execution_count": 46,
   "metadata": {},
   "outputs": [],
   "source": [
    "categorical_cols = df_data.select_dtypes(include=['object']).columns\n",
    "numerical_cols = df_data.select_dtypes(include=['int64', 'float64']).columns\n",
    "\n",
    "numerical_pipeline = Pipeline([\n",
    "    ('imputer', SimpleImputer(strategy='median')),\n",
    "    ('scaler', StandardScaler())\n",
    "])\n",
    "categorical_pipeline = Pipeline([\n",
    "    ('imputer', SimpleImputer(strategy='most_frequent')),\n",
    "    ('onehot', OneHotEncoder(handle_unknown='ignore'))\n",
    "])\n",
    "preprocessor = ColumnTransformer([\n",
    "    ('num', numerical_pipeline, numerical_cols),\n",
    "    ('cat', categorical_pipeline, categorical_cols)\n",
    "])"
   ]
  },
  {
   "cell_type": "code",
   "execution_count": 47,
   "metadata": {},
   "outputs": [],
   "source": [
    "models = {\n",
    "    'LinearRegression':          LinearRegression(),\n",
    "    'DecisionTreeRegressor':     DecisionTreeRegressor(),\n",
    "    'KNeighborsRegressor':       KNeighborsRegressor(),\n",
    "    'XGBRegressor':              xgb.XGBRegressor(\n",
    "                                    colsample_bytree=0.4603, \n",
    "                                    gamma=0.0468, \n",
    "                                    learning_rate=0.05, \n",
    "                                    max_depth=3, \n",
    "                                    min_child_weight=1.7817, \n",
    "                                    n_estimators=100,\n",
    "                                    reg_alpha=0.4640, \n",
    "                                    reg_lambda=0.8571,\n",
    "                                    subsample=0.5213\n",
    "                                 ),\n",
    "    'GradientBoostingRegressor': GradientBoostingRegressor(\n",
    "                                    n_estimators=100, \n",
    "                                    learning_rate=0.05,\n",
    "                                    max_depth=4, \n",
    "                                    max_features='sqrt',\n",
    "                                    min_samples_leaf=15, \n",
    "                                    min_samples_split=10, \n",
    "                                    loss='huber',\n",
    "                                 ),\n",
    "}\n",
    "\n",
    "    # 'Support Vector Machine':    SVR(\n",
    "    #                                 kernel='rbf', \n",
    "    #                                 C=1000000, \n",
    "    #                                 epsilon=0.001\n",
    "    #                              ),"
   ]
  },
  {
   "cell_type": "code",
   "execution_count": 48,
   "metadata": {},
   "outputs": [],
   "source": [
    "def evaluate_model(pipeline, X, y, kf):\n",
    "    cv_mae = cross_val_score(pipeline, X, y, cv=kf, scoring='neg_mean_absolute_error')\n",
    "    cv_mse = cross_val_score(pipeline, X, y, cv=kf, scoring='neg_mean_squared_error')\n",
    "    cv_r2  = cross_val_score(pipeline, X, y, cv=kf, scoring='r2')\n",
    "    \n",
    "    mae = -statistics.mean(cv_mae)\n",
    "    mse = -statistics.mean(cv_mse)\n",
    "    rmse = np.sqrt(mse)\n",
    "    r2 = statistics.mean(cv_r2)\n",
    "    \n",
    "    return mae, mse, rmse, r2"
   ]
  },
  {
   "cell_type": "code",
   "execution_count": 49,
   "metadata": {},
   "outputs": [
    {
     "name": "stdout",
     "output_type": "stream",
     "text": [
      "Model LinearRegression begining now ...\n",
      "Model LinearRegression finishing in                0.1 minutes\n",
      "Model DecisionTreeRegressor begining now ...\n",
      "Model DecisionTreeRegressor finishing in           0.6 minutes\n",
      "Model KNeighborsRegressor begining now ...\n",
      "Model KNeighborsRegressor finishing in             6.8 minutes\n",
      "Model XGBRegressor begining now ...\n",
      "Model XGBRegressor finishing in                    0.5 minutes\n",
      "Model GradientBoostingRegressor begining now ...\n",
      "Model GradientBoostingRegressor finishing in       5.1 minutes\n"
     ]
    }
   ],
   "source": [
    "import time\n",
    "\n",
    "results = {}\n",
    "\n",
    "kf = KFold(n_splits=5, shuffle=True)\n",
    "\n",
    "for name, model in models.items():\n",
    "\n",
    "    pipeline = Pipeline([\n",
    "        ('preprocessor', preprocessor),\n",
    "        ('model', model)\n",
    "    ])\n",
    "    \n",
    "    print(f'Model {name} begining now ...')\n",
    "    begin_time = time.time()\n",
    "    mae, mse, rmse, r2 = evaluate_model(pipeline, df_data, df_label, kf)\n",
    "    end_time = time.time()\n",
    "    print(f'Model {name} finishing in'.ljust(50), f'{round((end_time - begin_time) / 60, 1)} minutes')\n",
    "\n",
    "    results[name] = {\n",
    "        'MAE': mae,\n",
    "        'MSE': mse,\n",
    "        'RMSE': rmse,\n",
    "        'R^2': r2\n",
    "    }"
   ]
  },
  {
   "cell_type": "code",
   "execution_count": 75,
   "metadata": {},
   "outputs": [
    {
     "data": {
      "text/html": [
       "<div>\n",
       "<style scoped>\n",
       "    .dataframe tbody tr th:only-of-type {\n",
       "        vertical-align: middle;\n",
       "    }\n",
       "\n",
       "    .dataframe tbody tr th {\n",
       "        vertical-align: top;\n",
       "    }\n",
       "\n",
       "    .dataframe thead th {\n",
       "        text-align: right;\n",
       "    }\n",
       "</style>\n",
       "<table border=\"1\" class=\"dataframe\">\n",
       "  <thead>\n",
       "    <tr style=\"text-align: right;\">\n",
       "      <th></th>\n",
       "      <th>MAE</th>\n",
       "      <th>MSE</th>\n",
       "      <th>RMSE</th>\n",
       "      <th>R^2</th>\n",
       "    </tr>\n",
       "  </thead>\n",
       "  <tbody>\n",
       "    <tr>\n",
       "      <th>LinearRegression</th>\n",
       "      <td>236653.059690</td>\n",
       "      <td>3.691842e+11</td>\n",
       "      <td>607605.309726</td>\n",
       "      <td>0.291343</td>\n",
       "    </tr>\n",
       "    <tr>\n",
       "      <th>DecisionTreeRegressor</th>\n",
       "      <td>251884.503199</td>\n",
       "      <td>6.357236e+11</td>\n",
       "      <td>797322.784559</td>\n",
       "      <td>-0.124568</td>\n",
       "    </tr>\n",
       "    <tr>\n",
       "      <th>KNeighborsRegressor</th>\n",
       "      <td>212247.988627</td>\n",
       "      <td>3.448101e+11</td>\n",
       "      <td>587205.348592</td>\n",
       "      <td>0.333305</td>\n",
       "    </tr>\n",
       "    <tr>\n",
       "      <th>XGBRegressor</th>\n",
       "      <td>209021.822484</td>\n",
       "      <td>3.274480e+11</td>\n",
       "      <td>572230.759519</td>\n",
       "      <td>0.367848</td>\n",
       "    </tr>\n",
       "    <tr>\n",
       "      <th>GradientBoostingRegressor</th>\n",
       "      <td>197537.805920</td>\n",
       "      <td>3.632510e+11</td>\n",
       "      <td>602703.115540</td>\n",
       "      <td>0.314460</td>\n",
       "    </tr>\n",
       "  </tbody>\n",
       "</table>\n",
       "</div>"
      ],
      "text/plain": [
       "                                     MAE           MSE           RMSE  \\\n",
       "LinearRegression           236653.059690  3.691842e+11  607605.309726   \n",
       "DecisionTreeRegressor      251884.503199  6.357236e+11  797322.784559   \n",
       "KNeighborsRegressor        212247.988627  3.448101e+11  587205.348592   \n",
       "XGBRegressor               209021.822484  3.274480e+11  572230.759519   \n",
       "GradientBoostingRegressor  197537.805920  3.632510e+11  602703.115540   \n",
       "\n",
       "                                R^2  \n",
       "LinearRegression           0.291343  \n",
       "DecisionTreeRegressor     -0.124568  \n",
       "KNeighborsRegressor        0.333305  \n",
       "XGBRegressor               0.367848  \n",
       "GradientBoostingRegressor  0.314460  "
      ]
     },
     "execution_count": 75,
     "metadata": {},
     "output_type": "execute_result"
    }
   ],
   "source": [
    "df_results = pd.DataFrame(results).T\n",
    "df_results"
   ]
  },
  {
   "cell_type": "code",
   "execution_count": 76,
   "metadata": {},
   "outputs": [
    {
     "name": "stderr",
     "output_type": "stream",
     "text": [
      "C:\\Users\\lucap\\AnacondaPy3\\envs\\venv\\Lib\\site-packages\\seaborn\\_oldcore.py:1765: FutureWarning: unique with argument that is not not a Series, Index, ExtensionArray, or np.ndarray is deprecated and will raise in a future version.\n",
      "  order = pd.unique(vector)\n"
     ]
    },
    {
     "data": {
      "image/png": "[encoded data removed]",
      "text/plain": [
       "<Figure size 800x400 with 1 Axes>"
      ]
     },
     "metadata": {},
     "output_type": "display_data"
    }
   ],
   "source": [
    "%matplotlib inline\n",
    "df_results.reset_index(inplace=True)\n",
    "rmse_df = df_results[['index', 'R^2']]\n",
    "\n",
    "labels = ['Linear', 'Decision Tree', 'KNeighbors', 'XGBoost', 'Gradient Boosting']\n",
    "\n",
    "plt.figure(figsize=(8, 4))\n",
    "sns.barplot(data=rmse_df, x=labels, y='R^2')\n",
    "\n",
    "plt.title(r'Model Comparison - R$^{2}$ (5-Fold Cross-Validation)')\n",
    "plt.xlabel(\"Regressor Model\")\n",
    "plt.axhline(y=0, color='k', linestyle=':')\n",
    "plt.ylabel(r'R$^{2}$')\n",
    "yminlim = rmse_df['R^2'].min()\n",
    "ymaxlim = rmse_df['R^2'].max()\n",
    "yrange = (ymaxlim - yminlim) * .05\n",
    "yminlim -= yrange\n",
    "ymaxlim += yrange\n",
    "plt.ylim(yminlim, ymaxlim)\n",
    "plt.xticks(rotation=0)\n",
    "plt.tight_layout()\n",
    "plt.show()"
   ]
  },
  {
   "cell_type": "code",
   "execution_count": 94,
   "metadata": {},
   "outputs": [],
   "source": [
    "best_regressor_name = df_results.sort_values(by=['R^2'],ascending=False).head(1)['index'].iloc[-1]\n",
    "best_regressor = models[best_regressor_name]"
   ]
  },
  {
   "cell_type": "code",
   "execution_count": 95,
   "metadata": {},
   "outputs": [
    {
     "data": {
      "text/plain": [
       "'XGBRegressor'"
      ]
     },
     "execution_count": 95,
     "metadata": {},
     "output_type": "execute_result"
    }
   ],
   "source": [
    "best_regressor_name"
   ]
  },
  {
   "cell_type": "code",
   "execution_count": 96,
   "metadata": {},
   "outputs": [
    {
     "name": "stdout",
     "output_type": "stream",
     "text": [
      "(2950951, 10)\n"
     ]
    }
   ],
   "source": [
    "df_label = df_filter['taxvaluedollarcnt']\n",
    "df_data = df_filter.loc[:, df_percent.columns != 'taxvaluedollarcnt']\n",
    "print(df_data.shape)"
   ]
  },
  {
   "cell_type": "code",
   "execution_count": 97,
   "metadata": {},
   "outputs": [],
   "source": [
    "# Split data into training and testing sets\n",
    "X_train, X_test, y_train, y_test = train_test_split(df_data, df_label, test_size=0.2, random_state=42)"
   ]
  },
  {
   "cell_type": "code",
   "execution_count": 98,
   "metadata": {},
   "outputs": [],
   "source": [
    "scaler = StandardScaler().fit(X_train)\n",
    "X_train_sc = scaler.transform(X_train)\n",
    "\n",
    "X_test_sc = scaler.transform(X_test)"
   ]
  },
  {
   "cell_type": "code",
   "execution_count": 99,
   "metadata": {},
   "outputs": [],
   "source": [
    "best_model = best_regressor.fit(X_train_sc, y_train)"
   ]
  },
  {
   "cell_type": "code",
   "execution_count": 100,
   "metadata": {},
   "outputs": [
    {
     "data": {
      "text/plain": [
       "745397.6660602341"
      ]
     },
     "execution_count": 100,
     "metadata": {},
     "output_type": "execute_result"
    }
   ],
   "source": [
    "pred = best_model.predict(X_test_sc)"
   ]
  },
  {
   "cell_type": "code",
   "execution_count": 101,
   "metadata": {},
   "outputs": [
    {
     "name": "stdout",
     "output_type": "stream",
     "text": [
      "0.25648578830745905\n"
     ]
    }
   ],
   "source": [
    "from sklearn.metrics import r2_score\n",
    "print(r2_score(y_test, pred))"
   ]
  },
  {
   "cell_type": "code",
   "execution_count": 86,
   "metadata": {},
   "outputs": [
    {
     "name": "stdout",
     "output_type": "stream",
     "text": [
      "The true value is: 404000.0\n",
      "and the predicted value is: [362435.]\n"
     ]
    }
   ],
   "source": [
    "idx = 2\n",
    "print('The true value is: ' +str(y_test.iloc[idx]))\n",
    "print('and the predicted value is: ' +str(best_model.predict(X_test_sc[idx].reshape(1, -1))))"
   ]
  },
  {
   "cell_type": "code",
   "execution_count": 102,
   "metadata": {},
   "outputs": [
    {
     "name": "stdout",
     "output_type": "stream",
     "text": [
      "Model saved as best_model_xgbregressor.joblib\n"
     ]
    }
   ],
   "source": [
    "from joblib import dump\n",
    "\n",
    "# Save the best model to disk\n",
    "model_filename = f'best_model_{best_regressor_name.replace(\" \", \"_\").lower()}.joblib'\n",
    "dump(best_model, model_filename)\n",
    "print(f\"Model saved as {model_filename}\")"
   ]
  },
  {
   "cell_type": "code",
   "execution_count": 103,
   "metadata": {},
   "outputs": [],
   "source": [
    "# save X_train, X_test, y_train, y_test to csv\n",
    "X_train.to_csv('X_train.csv')\n",
    "X_test.to_csv('X_test.csv')\n",
    "y_train.to_csv('y_train.csv')\n",
    "y_test.to_csv('y_test.csv')"
   ]
  },
  {
   "cell_type": "code",
   "execution_count": null,
   "metadata": {},
   "outputs": [],
   "source": []
  }
 ],
 "metadata": {
  "colab": {
   "provenance": []
  },
  "kernelspec": {
   "display_name": "Python 3 (ipykernel)",
   "language": "python",
   "name": "python3"
  },
  "language_info": {
   "codemirror_mode": {
    "name": "ipython",
    "version": 3
   },
   "file_extension": ".py",
   "mimetype": "text/x-python",
   "name": "python",
   "nbconvert_exporter": "python",
   "pygments_lexer": "ipython3",
   "version": "3.11.9"
  }
 },
 "nbformat": 4,
 "nbformat_minor": 4
}
