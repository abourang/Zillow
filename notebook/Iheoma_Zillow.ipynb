{
  "cells": [
    {
      "cell_type": "markdown",
      "metadata": {
        "id": "OSvM_0Ttf75W"
      },
      "source": [
        "Importing Data & Libraries"
      ]
    },
    {
      "cell_type": "code",
      "execution_count": 57,
      "metadata": {
        "collapsed": true,
        "id": "GU-zeUER1B9r"
      },
      "outputs": [],
      "source": [
        "# Import necessary libraries and modules\n",
        "\n",
        "#Iheoma imports\n",
        "import pandas as pd\n",
        "import numpy as np\n",
        "import seaborn as sns\n",
        "import matplotlib.pyplot as plt\n",
        "import io\n",
        "plt.style.use('ggplot')\n",
        "\n",
        "pd.options.mode.chained_assignment = None\n",
        "\n",
        "\n",
        "# Import files into our working environment\n",
        "df_2016 = pd.read_csv('properties_2016.csv', low_memory=False)\n",
        "df_2017 = pd.read_csv('properties_2017.csv', low_memory=False)\n",
        "zillow_data_dict = pd.read_excel('zillow_data_dictionary.xlsx')\n",
        "\n",
        "# Replace column names with snake case for ease of manipulation\n",
        "df_2016.columns=df_2016.columns.str.replace(\" \",\"_\").str.lower()\n",
        "df_2017.columns=df_2017.columns.str.replace(\" \",\"_\").str.lower()\n",
        "zillow_data_dict.columns=zillow_data_dict.columns.str.replace(\" \",\"_\").str.lower()\n",
        "\n",
        "# Merge the two dataframes & drop duplicates\n",
        "df = pd.concat([df_2016, df_2017], axis=0).drop_duplicates()\n",
        "\n",
        "# Set the display options to show full text wrapping\n",
        "pd.set_option('display.max_colwidth', None)\n",
        "\n",
        "# display(zillow_data_dict)\n"
      ]
    },
    {
      "cell_type": "markdown",
      "metadata": {
        "id": "O6nsvI-CgBoL"
      },
      "source": [
        "Data Cleaning\n",
        "*"
      ]
    },
    {
      "cell_type": "code",
      "execution_count": 58,
      "metadata": {
        "colab": {
          "base_uri": "https://localhost:8080/"
        },
        "collapsed": true,
        "id": "sIYOnPk7gHC2",
        "outputId": "6efefe61-648d-4814-d87f-7085463bdf1f"
      },
      "outputs": [
        {
          "output_type": "stream",
          "name": "stdout",
          "text": [
            "DataFrame saved to iheoma_cleaned.csv\n"
          ]
        }
      ],
      "source": [
        "# Determining list of variables to drop\n",
        "\n",
        "# Dropping'taxdelinquencyflag' 'taxdelinquencyyear' as they don't impact our model\n",
        "# Dropping other location data not needed 'regionidneighborhood' 'regionidcity' 'regionidcounty'\n",
        "# -> will keep zipcode but need to remove data that is missing this info\n",
        "# 'rawcensustractandblock','censustractandblock','latitude','longitude'\n",
        "# dropping all extra zoning data 'propertyzoningdesc','propertycountylandusecode'\n",
        "# dropping other tax columns'landtaxvaluedollarcnt','structuretaxvaluedollarcnt', 'taxamount'\n",
        "# redunant size categories,'finishedsquarefeet12', 'finishedsquarefeet13', 'finishedsquarefeet15', 'finishedsquarefeet50','finishedsquarefeet6'\n",
        "# redundant bathroom references 'threequarterbathnbr','fullbathcnt', 'calculatedbathnbr'\n",
        "# objects/flag/qualitative, 'hashottuborspa', 'buildingqualitytypeid', 'buildingclasstypeid', 'fireplaceflag','architecturalstyletypeid'\n",
        "# pool size redundancy 'pooltypeid10','pooltypeid2','pooltypeid7','poolsizesum'\n",
        "# Drop finishedfloor1squarefeet as column since 93% of data is missing this and is possibly duplicative with other values\n",
        "drop_list = ['taxdelinquencyflag','taxdelinquencyyear','taxamount','landtaxvaluedollarcnt','structuretaxvaluedollarcnt','yardbuildingsqft26','typeconstructiontypeid','storytypeid','regionidneighborhood','regionidcity','regionidcounty','censustractandblock','rawcensustractandblock','propertyzoningdesc','propertylandusetypeid','propertycountylandusecode','pooltypeid7','pooltypeid2','pooltypeid10','longitude','latitude','heatingorsystemtypeid','hashottuborspa','fullbathcnt','fireplaceflag','finishedsquarefeet50','finishedsquarefeet15','finishedsquarefeet13','finishedsquarefeet12','finishedsquarefeet6','threequarterbathnbr','decktypeid','buildingclasstypeid','buildingqualitytypeid','architecturalstyletypeid','airconditioningtypeid','finishedfloor1squarefeet','calculatedbathnbr']\n",
        "df.drop(drop_list, axis=1, inplace=True)\n",
        "\n",
        "#Handling Missing Data\n",
        "# Dropping rows with null for'parcelid','bathroomcnt','bedroomcnt','fips','taxvaluedollarcnt','assessmentyear'\n",
        "# Initially filled values for lotsize & finished sq ft but drop is cleaner\n",
        "df.dropna(subset=['parcelid', 'bathroomcnt', 'bedroomcnt', 'fips', 'taxvaluedollarcnt', 'assessmentyear', 'regionidzip', 'yearbuilt','roomcnt','lotsizesquarefeet','calculatedfinishedsquarefeet'], inplace=True)\n",
        "\n",
        "missing_zero_columns = ['basementsqft','fireplacecnt','garagecarcnt','garagetotalsqft','poolcnt','poolsizesum','yardbuildingsqft17']\n",
        "df[missing_zero_columns] = df[missing_zero_columns].fillna(0)\n",
        "\n",
        "missing_one_columns = ['unitcnt','numberofstories']\n",
        "df[missing_one_columns] = df[missing_one_columns].fillna(1)\n",
        "\n",
        "# EDA insights for further cleaning\n",
        "# df.describe().transpose()\n",
        "\n",
        "#drop data when calculatefinishedsqft>lotsizesqft\n",
        "df = df.drop(df[df['calculatedfinishedsquarefeet'] > df['lotsizesquarefeet']].index)\n",
        "# drop data if more than 6 bathrooms (4 std from mean)\n",
        "df = df.drop(df[df['bathroomcnt'] > 6].index)\n",
        "# drop data if more than 8 bedrooms (4 std from mean)\n",
        "df = df.drop(df[df['bedroomcnt'] > 8].index)\n",
        "# drop data if more than 2 fireplaces (5 std from mean)\n",
        "df = df.drop(df[df['fireplacecnt'] > 2].index)\n",
        "# drop data if more than 5 garagecarcnt (4 std from mean)\n",
        "df = df.drop(df[df['garagecarcnt'] > 5].index)\n",
        "# drop data if more than 10 roomcnt (3 std from mean)\n",
        "df = df.drop(df[df['roomcnt'] > 10].index)\n",
        "# drop data if more than 7 roomcnt (4 std from mean)\n",
        "df = df.drop(df[df['unitcnt'] > 7].index)\n",
        "# drop data if more than 3 roomcnt (5 std from mean)\n",
        "df = df.drop(df[df['numberofstories'] > 3].index)\n",
        "\n",
        "def save_cleaned_dataframe(df, file_name):\n",
        "    # Save the cleaned DataFrame to a CSV file\n",
        "    df.to_csv(file_name, index=False)\n",
        "    print(f\"DataFrame saved to {file_name}\")\n",
        "\n",
        "save_cleaned_dataframe(df,'iheoma_cleaned.csv')\n"
      ]
    }
  ],
  "metadata": {
    "colab": {
      "machine_shape": "hm",
      "provenance": []
    },
    "kernelspec": {
      "display_name": "Python 3",
      "name": "python3"
    },
    "language_info": {
      "name": "python"
    }
  },
  "nbformat": 4,
  "nbformat_minor": 0
}