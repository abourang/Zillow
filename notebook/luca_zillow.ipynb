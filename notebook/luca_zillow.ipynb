{
 "cells": [
  {
   "cell_type": "markdown",
   "metadata": {
    "id": "2PXW_TEVG7iO"
   },
   "source": [
    "## Project: Zillow's market value estimation"
   ]
  },
  {
   "cell_type": "markdown",
   "metadata": {
    "id": "nPzGw2LaFFzx"
   },
   "source": [
    "**Introduction:**\\\n",
    "A Zestimate is Zillow’s estimated market value for a home, computed using a proprietary formula including public and user-submitted data, such as details about a home (bedrooms, bathrooms, home age, etc.), location, property tax assessment information and sales histories of the subject home as well as other homes that have recently sold in the area.\n",
    "\n",
    "**Objective:**\\\n",
    "In this competition, Zillow is asking you to predict the log-error between their Zestimate and the actual sale price, given all the features of a home. The log error is defined as\\\n",
    "$logerror=log(Zestimate)−log(SalePrice)$\\\n",
    "and it is recorded in the transactions file train.csv. In this competition, you are going to predict the logerror for the months in Fall 2017.\\[1pt]"
   ]
  },
  {
   "cell_type": "markdown",
   "metadata": {},
   "source": [
    "### Import of python libraries"
   ]
  },
  {
   "cell_type": "code",
   "execution_count": 1,
   "metadata": {
    "id": "HSvsjc2clIqD"
   },
   "outputs": [],
   "source": [
    "import pandas as pd\n",
    "import numpy as np\n",
    "import seaborn as sns\n",
    "import matplotlib.pyplot as plt\n",
    "\n",
    "from sklearn.model_selection import train_test_split\n",
    "from sklearn.preprocessing import StandardScaler, OneHotEncoder\n",
    "from sklearn.linear_model import LinearRegression\n",
    "from sklearn.compose import ColumnTransformer\n",
    "from sklearn.pipeline import Pipeline\n",
    "from sklearn.tree import DecisionTreeRegressor\n",
    "from sklearn.ensemble import AdaBoostRegressor\n",
    "from sklearn.decomposition import PCA"
   ]
  },
  {
   "cell_type": "markdown",
   "metadata": {},
   "source": [
    "### Import of the data"
   ]
  },
  {
   "cell_type": "code",
   "execution_count": 2,
   "metadata": {},
   "outputs": [
    {
     "name": "stdout",
     "output_type": "stream",
     "text": [
      "Current Directory C:\\Users\\lucap\\Documents\\Luca_documents\\Stanford Uni\\BUS 48 Data Analytics\\project\\bus48-zillow-dataset\\notebook\n",
      "C:\\Users\\lucap\\Documents\\Luca_documents\\Stanford Uni\\BUS 48 Data Analytics\\project\\bus48-zillow-dataset\n"
     ]
    }
   ],
   "source": [
    "import os\n",
    " \n",
    "# get current directory\n",
    "path = os.getcwd()\n",
    "print(\"Current Directory\", path)\n",
    " \n",
    "# prints parent directory\n",
    "print(os.path.abspath(os.path.join(path, os.pardir)))"
   ]
  },
  {
   "cell_type": "code",
   "execution_count": 3,
   "metadata": {},
   "outputs": [],
   "source": [
    "# zillow_dict explains the fields of the available data\n",
    "path = os.getcwd()\n",
    "parent_path = os.path.abspath(os.path.join(path, os.pardir))\n",
    "data_path = '\\\\data\\\\'\n",
    "\n",
    "df_clean = pd.read_csv(parent_path + data_path + 'iheoma_cleaned.csv')"
   ]
  },
  {
   "cell_type": "code",
   "execution_count": 4,
   "metadata": {},
   "outputs": [
    {
     "data": {
      "text/html": [
       "<div>\n",
       "<style scoped>\n",
       "    .dataframe tbody tr th:only-of-type {\n",
       "        vertical-align: middle;\n",
       "    }\n",
       "\n",
       "    .dataframe tbody tr th {\n",
       "        vertical-align: top;\n",
       "    }\n",
       "\n",
       "    .dataframe thead th {\n",
       "        text-align: right;\n",
       "    }\n",
       "</style>\n",
       "<table border=\"1\" class=\"dataframe\">\n",
       "  <thead>\n",
       "    <tr style=\"text-align: right;\">\n",
       "      <th></th>\n",
       "      <th>parcelid</th>\n",
       "      <th>basementsqft</th>\n",
       "      <th>bathroomcnt</th>\n",
       "      <th>bedroomcnt</th>\n",
       "      <th>calculatedfinishedsquarefeet</th>\n",
       "      <th>fips</th>\n",
       "      <th>fireplacecnt</th>\n",
       "      <th>garagecarcnt</th>\n",
       "      <th>garagetotalsqft</th>\n",
       "      <th>lotsizesquarefeet</th>\n",
       "      <th>poolcnt</th>\n",
       "      <th>poolsizesum</th>\n",
       "      <th>regionidzip</th>\n",
       "      <th>roomcnt</th>\n",
       "      <th>unitcnt</th>\n",
       "      <th>yardbuildingsqft17</th>\n",
       "      <th>yearbuilt</th>\n",
       "      <th>numberofstories</th>\n",
       "      <th>taxvaluedollarcnt</th>\n",
       "      <th>assessmentyear</th>\n",
       "    </tr>\n",
       "  </thead>\n",
       "  <tbody>\n",
       "    <tr>\n",
       "      <th>0</th>\n",
       "      <td>10859147</td>\n",
       "      <td>0.0</td>\n",
       "      <td>0.0</td>\n",
       "      <td>0.0</td>\n",
       "      <td>5068.0</td>\n",
       "      <td>6037</td>\n",
       "      <td>0.0</td>\n",
       "      <td>0.0</td>\n",
       "      <td>0.0</td>\n",
       "      <td>7521.0</td>\n",
       "      <td>0.0</td>\n",
       "      <td>0.0</td>\n",
       "      <td>96424.0</td>\n",
       "      <td>0.0</td>\n",
       "      <td>1.0</td>\n",
       "      <td>0.0</td>\n",
       "      <td>1948.0</td>\n",
       "      <td>1.0</td>\n",
       "      <td>1156834.0</td>\n",
       "      <td>2015.0</td>\n",
       "    </tr>\n",
       "    <tr>\n",
       "      <th>1</th>\n",
       "      <td>10879947</td>\n",
       "      <td>0.0</td>\n",
       "      <td>0.0</td>\n",
       "      <td>0.0</td>\n",
       "      <td>1776.0</td>\n",
       "      <td>6037</td>\n",
       "      <td>0.0</td>\n",
       "      <td>0.0</td>\n",
       "      <td>0.0</td>\n",
       "      <td>8512.0</td>\n",
       "      <td>0.0</td>\n",
       "      <td>0.0</td>\n",
       "      <td>96450.0</td>\n",
       "      <td>0.0</td>\n",
       "      <td>1.0</td>\n",
       "      <td>0.0</td>\n",
       "      <td>1947.0</td>\n",
       "      <td>1.0</td>\n",
       "      <td>433491.0</td>\n",
       "      <td>2015.0</td>\n",
       "    </tr>\n",
       "    <tr>\n",
       "      <th>2</th>\n",
       "      <td>10898347</td>\n",
       "      <td>0.0</td>\n",
       "      <td>0.0</td>\n",
       "      <td>0.0</td>\n",
       "      <td>2400.0</td>\n",
       "      <td>6037</td>\n",
       "      <td>0.0</td>\n",
       "      <td>0.0</td>\n",
       "      <td>0.0</td>\n",
       "      <td>2500.0</td>\n",
       "      <td>0.0</td>\n",
       "      <td>0.0</td>\n",
       "      <td>96446.0</td>\n",
       "      <td>0.0</td>\n",
       "      <td>1.0</td>\n",
       "      <td>0.0</td>\n",
       "      <td>1943.0</td>\n",
       "      <td>1.0</td>\n",
       "      <td>283315.0</td>\n",
       "      <td>2015.0</td>\n",
       "    </tr>\n",
       "    <tr>\n",
       "      <th>3</th>\n",
       "      <td>10940747</td>\n",
       "      <td>0.0</td>\n",
       "      <td>0.0</td>\n",
       "      <td>0.0</td>\n",
       "      <td>3611.0</td>\n",
       "      <td>6037</td>\n",
       "      <td>0.0</td>\n",
       "      <td>0.0</td>\n",
       "      <td>0.0</td>\n",
       "      <td>5333.0</td>\n",
       "      <td>0.0</td>\n",
       "      <td>0.0</td>\n",
       "      <td>96434.0</td>\n",
       "      <td>0.0</td>\n",
       "      <td>1.0</td>\n",
       "      <td>0.0</td>\n",
       "      <td>1946.0</td>\n",
       "      <td>1.0</td>\n",
       "      <td>688486.0</td>\n",
       "      <td>2015.0</td>\n",
       "    </tr>\n",
       "    <tr>\n",
       "      <th>4</th>\n",
       "      <td>10976347</td>\n",
       "      <td>0.0</td>\n",
       "      <td>0.0</td>\n",
       "      <td>0.0</td>\n",
       "      <td>3754.0</td>\n",
       "      <td>6037</td>\n",
       "      <td>0.0</td>\n",
       "      <td>0.0</td>\n",
       "      <td>0.0</td>\n",
       "      <td>7494.0</td>\n",
       "      <td>0.0</td>\n",
       "      <td>0.0</td>\n",
       "      <td>96366.0</td>\n",
       "      <td>0.0</td>\n",
       "      <td>1.0</td>\n",
       "      <td>0.0</td>\n",
       "      <td>1978.0</td>\n",
       "      <td>1.0</td>\n",
       "      <td>261201.0</td>\n",
       "      <td>2015.0</td>\n",
       "    </tr>\n",
       "  </tbody>\n",
       "</table>\n",
       "</div>"
      ],
      "text/plain": [
       "   parcelid  basementsqft  bathroomcnt  bedroomcnt  \\\n",
       "0  10859147           0.0          0.0         0.0   \n",
       "1  10879947           0.0          0.0         0.0   \n",
       "2  10898347           0.0          0.0         0.0   \n",
       "3  10940747           0.0          0.0         0.0   \n",
       "4  10976347           0.0          0.0         0.0   \n",
       "\n",
       "   calculatedfinishedsquarefeet  fips  fireplacecnt  garagecarcnt  \\\n",
       "0                        5068.0  6037           0.0           0.0   \n",
       "1                        1776.0  6037           0.0           0.0   \n",
       "2                        2400.0  6037           0.0           0.0   \n",
       "3                        3611.0  6037           0.0           0.0   \n",
       "4                        3754.0  6037           0.0           0.0   \n",
       "\n",
       "   garagetotalsqft  lotsizesquarefeet  poolcnt  poolsizesum  regionidzip  \\\n",
       "0              0.0             7521.0      0.0          0.0      96424.0   \n",
       "1              0.0             8512.0      0.0          0.0      96450.0   \n",
       "2              0.0             2500.0      0.0          0.0      96446.0   \n",
       "3              0.0             5333.0      0.0          0.0      96434.0   \n",
       "4              0.0             7494.0      0.0          0.0      96366.0   \n",
       "\n",
       "   roomcnt  unitcnt  yardbuildingsqft17  yearbuilt  numberofstories  \\\n",
       "0      0.0      1.0                 0.0     1948.0              1.0   \n",
       "1      0.0      1.0                 0.0     1947.0              1.0   \n",
       "2      0.0      1.0                 0.0     1943.0              1.0   \n",
       "3      0.0      1.0                 0.0     1946.0              1.0   \n",
       "4      0.0      1.0                 0.0     1978.0              1.0   \n",
       "\n",
       "   taxvaluedollarcnt  assessmentyear  \n",
       "0          1156834.0          2015.0  \n",
       "1           433491.0          2015.0  \n",
       "2           283315.0          2015.0  \n",
       "3           688486.0          2015.0  \n",
       "4           261201.0          2015.0  "
      ]
     },
     "execution_count": 4,
     "metadata": {},
     "output_type": "execute_result"
    }
   ],
   "source": [
    "df_clean.head()"
   ]
  },
  {
   "cell_type": "code",
   "execution_count": 5,
   "metadata": {},
   "outputs": [
    {
     "name": "stdout",
     "output_type": "stream",
     "text": [
      "<class 'pandas.core.frame.DataFrame'>\n",
      "RangeIndex: 848903 entries, 0 to 848902\n",
      "Data columns (total 20 columns):\n",
      " #   Column                        Non-Null Count   Dtype  \n",
      "---  ------                        --------------   -----  \n",
      " 0   parcelid                      848903 non-null  int64  \n",
      " 1   basementsqft                  848903 non-null  float64\n",
      " 2   bathroomcnt                   848903 non-null  float64\n",
      " 3   bedroomcnt                    848903 non-null  float64\n",
      " 4   calculatedfinishedsquarefeet  848903 non-null  float64\n",
      " 5   fips                          848903 non-null  int64  \n",
      " 6   fireplacecnt                  848903 non-null  float64\n",
      " 7   garagecarcnt                  848903 non-null  float64\n",
      " 8   garagetotalsqft               848903 non-null  float64\n",
      " 9   lotsizesquarefeet             848903 non-null  float64\n",
      " 10  poolcnt                       848903 non-null  float64\n",
      " 11  poolsizesum                   848903 non-null  float64\n",
      " 12  regionidzip                   848903 non-null  float64\n",
      " 13  roomcnt                       848903 non-null  float64\n",
      " 14  unitcnt                       848903 non-null  float64\n",
      " 15  yardbuildingsqft17            848903 non-null  float64\n",
      " 16  yearbuilt                     848903 non-null  float64\n",
      " 17  numberofstories               848903 non-null  float64\n",
      " 18  taxvaluedollarcnt             848903 non-null  float64\n",
      " 19  assessmentyear                848903 non-null  float64\n",
      "dtypes: float64(18), int64(2)\n",
      "memory usage: 129.5 MB\n"
     ]
    }
   ],
   "source": [
    "df_clean.info()"
   ]
  },
  {
   "cell_type": "code",
   "execution_count": 6,
   "metadata": {},
   "outputs": [],
   "source": [
    "df_clean.drop(['parcelid'], axis=1, inplace=True)"
   ]
  },
  {
   "cell_type": "markdown",
   "metadata": {},
   "source": [
    "### Downsample the dataset"
   ]
  },
  {
   "cell_type": "code",
   "execution_count": 7,
   "metadata": {},
   "outputs": [
    {
     "name": "stdout",
     "output_type": "stream",
     "text": [
      "The original df has shape:  (848903, 19)\n",
      "and the new df has shape: (169781, 19)\n"
     ]
    }
   ],
   "source": [
    "# Randomly sample 20% of the original dataframe\n",
    "df_down = df_clean.sample(frac=0.2)\n",
    "print('The original df has shape:  %s' % (df_clean.shape,))\n",
    "print('and the new df has shape: %s' % (df_down.shape,))"
   ]
  },
  {
   "cell_type": "code",
   "execution_count": 8,
   "metadata": {},
   "outputs": [
    {
     "name": "stdout",
     "output_type": "stream",
     "text": [
      "df_label has shape:  (169781,)\n",
      "df_data has shape: (169781, 18)\n"
     ]
    }
   ],
   "source": [
    "df_label = df_down['taxvaluedollarcnt']\n",
    "df_data = df_down.loc[:, df_down.columns != 'taxvaluedollarcnt']\n",
    "print('df_label has shape:  %s' % (df_label.shape,))\n",
    "print('df_data has shape: %s' % (df_data.shape,))"
   ]
  },
  {
   "cell_type": "code",
   "execution_count": 9,
   "metadata": {},
   "outputs": [],
   "source": [
    "# Split data into training and testing sets\n",
    "X_train, X_test, y_train, y_test = train_test_split(df_data, df_label, test_size=0.2, random_state=42)"
   ]
  },
  {
   "cell_type": "code",
   "execution_count": 10,
   "metadata": {},
   "outputs": [],
   "source": [
    "from sklearn.linear_model    import LinearRegression\n",
    "from sklearn.tree            import DecisionTreeRegressor\n",
    "from sklearn.neighbors       import KNeighborsRegressor\n",
    "from sklearn.ensemble        import GradientBoostingRegressor\n",
    "import xgboost as xgb\n",
    "import statistics\n",
    "from sklearn.model_selection import KFold,cross_val_score, train_test_split\n",
    "from sklearn.metrics         import mean_squared_error, mean_absolute_error, mean_squared_log_error, r2_score\n",
    "from sklearn.pipeline        import Pipeline\n",
    "from sklearn.preprocessing   import StandardScaler\n",
    "from sklearn.compose         import ColumnTransformer\n",
    "from sklearn.impute          import SimpleImputer"
   ]
  },
  {
   "cell_type": "code",
   "execution_count": 11,
   "metadata": {},
   "outputs": [],
   "source": [
    "preprocessor = Pipeline([\n",
    "    ('scaler', StandardScaler())\n",
    "])"
   ]
  },
  {
   "cell_type": "code",
   "execution_count": 12,
   "metadata": {},
   "outputs": [],
   "source": [
    "models = {\n",
    "    'LinearRegression':          LinearRegression(),\n",
    "    'DecisionTreeRegressor':     DecisionTreeRegressor(),\n",
    "    'KNeighborsRegressor':       KNeighborsRegressor(),\n",
    "    'XGBRegressor':              xgb.XGBRegressor(\n",
    "                                    colsample_bytree=0.4603, \n",
    "                                    gamma=0.0468, \n",
    "                                    learning_rate=0.05, \n",
    "                                    max_depth=3, \n",
    "                                    min_child_weight=1.7817, \n",
    "                                    n_estimators=100,\n",
    "                                    reg_alpha=0.4640, \n",
    "                                    reg_lambda=0.8571,\n",
    "                                    subsample=0.5213\n",
    "                                 ),\n",
    "    'GradientBoostingRegressor': GradientBoostingRegressor(\n",
    "                                    n_estimators=100, \n",
    "                                    learning_rate=0.05,\n",
    "                                    max_depth=4, \n",
    "                                    max_features='sqrt',\n",
    "                                    min_samples_leaf=15, \n",
    "                                    min_samples_split=10, \n",
    "                                    loss='huber',\n",
    "                                 ),\n",
    "}"
   ]
  },
  {
   "cell_type": "code",
   "execution_count": 13,
   "metadata": {},
   "outputs": [],
   "source": [
    "def evaluate_model(pipeline, X, y, kf):\n",
    "    cv_mae = cross_val_score(pipeline, X, y, cv=kf, scoring='neg_mean_absolute_error')\n",
    "    cv_mse = cross_val_score(pipeline, X, y, cv=kf, scoring='neg_mean_squared_error')\n",
    "    cv_r2  = cross_val_score(pipeline, X, y, cv=kf, scoring='r2')\n",
    "    \n",
    "    mae = -statistics.mean(cv_mae)\n",
    "    mse = -statistics.mean(cv_mse)\n",
    "    rmse = np.sqrt(mse)\n",
    "    r2 = statistics.mean(cv_r2)\n",
    "    \n",
    "    return mae, mse, rmse, r2"
   ]
  },
  {
   "cell_type": "code",
   "execution_count": 14,
   "metadata": {},
   "outputs": [
    {
     "name": "stdout",
     "output_type": "stream",
     "text": [
      "Model LinearRegression begining now ...\n"
     ]
    },
    {
     "name": "stderr",
     "output_type": "stream",
     "text": [
      "\n",
      "KeyboardInterrupt\n",
      "\n"
     ]
    }
   ],
   "source": [
    "import time\n",
    "\n",
    "results = {}\n",
    "\n",
    "kf = KFold(n_splits=5, shuffle=True)\n",
    "\n",
    "for name, model in models.items():\n",
    "\n",
    "    pipeline = Pipeline([\n",
    "        ('preprocessor', preprocessor),\n",
    "        ('model', model)\n",
    "    ])\n",
    "    \n",
    "    print(f'Model {name} begining now ...')\n",
    "    begin_time = time.time()\n",
    "    mae, mse, rmse, r2 = evaluate_model(pipeline, df_data, df_label, kf)\n",
    "    end_time = time.time()\n",
    "    print(f'Model {name} finishing in'.ljust(50), f'{round((end_time - begin_time) / 60, 1)} minutes')\n",
    "\n",
    "    results[name] = {\n",
    "        'MAE': mae,\n",
    "        'MSE': mse,\n",
    "        'RMSE': rmse,\n",
    "        'R^2': r2\n",
    "    }"
   ]
  },
  {
   "cell_type": "code",
   "execution_count": 65,
   "metadata": {},
   "outputs": [
    {
     "data": {
      "text/html": [
       "<div>\n",
       "<style scoped>\n",
       "    .dataframe tbody tr th:only-of-type {\n",
       "        vertical-align: middle;\n",
       "    }\n",
       "\n",
       "    .dataframe tbody tr th {\n",
       "        vertical-align: top;\n",
       "    }\n",
       "\n",
       "    .dataframe thead th {\n",
       "        text-align: right;\n",
       "    }\n",
       "</style>\n",
       "<table border=\"1\" class=\"dataframe\">\n",
       "  <thead>\n",
       "    <tr style=\"text-align: right;\">\n",
       "      <th></th>\n",
       "      <th>MAE</th>\n",
       "      <th>MSE</th>\n",
       "      <th>RMSE</th>\n",
       "      <th>R^2</th>\n",
       "    </tr>\n",
       "  </thead>\n",
       "  <tbody>\n",
       "    <tr>\n",
       "      <th>LinearRegression</th>\n",
       "      <td>201909.346353</td>\n",
       "      <td>1.355340e+11</td>\n",
       "      <td>368149.382572</td>\n",
       "      <td>0.339698</td>\n",
       "    </tr>\n",
       "    <tr>\n",
       "      <th>DecisionTreeRegressor</th>\n",
       "      <td>212843.325318</td>\n",
       "      <td>1.922111e+11</td>\n",
       "      <td>438418.899493</td>\n",
       "      <td>0.127010</td>\n",
       "    </tr>\n",
       "    <tr>\n",
       "      <th>KNeighborsRegressor</th>\n",
       "      <td>199674.359245</td>\n",
       "      <td>1.367955e+11</td>\n",
       "      <td>369858.807550</td>\n",
       "      <td>0.336258</td>\n",
       "    </tr>\n",
       "    <tr>\n",
       "      <th>XGBRegressor</th>\n",
       "      <td>184768.113368</td>\n",
       "      <td>1.153862e+11</td>\n",
       "      <td>339685.404997</td>\n",
       "      <td>0.439224</td>\n",
       "    </tr>\n",
       "    <tr>\n",
       "      <th>GradientBoostingRegressor</th>\n",
       "      <td>180576.945355</td>\n",
       "      <td>1.270109e+11</td>\n",
       "      <td>356385.907854</td>\n",
       "      <td>0.382344</td>\n",
       "    </tr>\n",
       "  </tbody>\n",
       "</table>\n",
       "</div>"
      ],
      "text/plain": [
       "                                     MAE           MSE           RMSE  \\\n",
       "LinearRegression           201909.346353  1.355340e+11  368149.382572   \n",
       "DecisionTreeRegressor      212843.325318  1.922111e+11  438418.899493   \n",
       "KNeighborsRegressor        199674.359245  1.367955e+11  369858.807550   \n",
       "XGBRegressor               184768.113368  1.153862e+11  339685.404997   \n",
       "GradientBoostingRegressor  180576.945355  1.270109e+11  356385.907854   \n",
       "\n",
       "                                R^2  \n",
       "LinearRegression           0.339698  \n",
       "DecisionTreeRegressor      0.127010  \n",
       "KNeighborsRegressor        0.336258  \n",
       "XGBRegressor               0.439224  \n",
       "GradientBoostingRegressor  0.382344  "
      ]
     },
     "execution_count": 65,
     "metadata": {},
     "output_type": "execute_result"
    }
   ],
   "source": [
    "df_results = pd.DataFrame(results).T\n",
    "df_results"
   ]
  },
  {
   "cell_type": "code",
   "execution_count": 66,
   "metadata": {},
   "outputs": [
    {
     "name": "stderr",
     "output_type": "stream",
     "text": [
      "C:\\Users\\lucap\\AnacondaPy3\\envs\\tf\\lib\\site-packages\\seaborn\\_oldcore.py:1765: FutureWarning: unique with argument that is not not a Series, Index, ExtensionArray, or np.ndarray is deprecated and will raise in a future version.\n",
      "  order = pd.unique(vector)\n"
     ]
    },
    {
     "data": {
      "image/png": "[encoded data removed]",
      "text/plain": [
       "<Figure size 800x400 with 1 Axes>"
      ]
     },
     "metadata": {},
     "output_type": "display_data"
    }
   ],
   "source": [
    "%matplotlib inline\n",
    "df_results.reset_index(inplace=True)\n",
    "rmse_df = df_results[['index', 'R^2']]\n",
    "\n",
    "labels = ['Linear', 'Decision Tree', 'KNeighbors', 'XGBoost', 'Gradient Boosting']\n",
    "\n",
    "plt.figure(figsize=(8, 4))\n",
    "sns.barplot(data=rmse_df, x=labels, y='R^2')\n",
    "\n",
    "plt.title(r'Model Comparison - R$^{2}$ (5-Fold Cross-Validation)')\n",
    "plt.xlabel(\"Regressor Model\")\n",
    "plt.axhline(y=0, color='k', linestyle=':')\n",
    "plt.ylabel(r'R$^{2}$')\n",
    "yminlim = rmse_df['R^2'].min()\n",
    "ymaxlim = rmse_df['R^2'].max()\n",
    "yrange = (ymaxlim - yminlim) * .05\n",
    "yminlim -= yrange\n",
    "ymaxlim += yrange\n",
    "plt.ylim(yminlim, ymaxlim)\n",
    "plt.xticks(rotation=0)\n",
    "plt.tight_layout()\n",
    "plt.show()"
   ]
  },
  {
   "cell_type": "code",
   "execution_count": 67,
   "metadata": {},
   "outputs": [],
   "source": [
    "best_regressor_name = df_results.sort_values(by=['R^2'],ascending=False).head(1)['index'].iloc[-1]\n",
    "best_regressor = models[best_regressor_name]"
   ]
  },
  {
   "cell_type": "code",
   "execution_count": 68,
   "metadata": {},
   "outputs": [
    {
     "data": {
      "text/plain": [
       "'XGBRegressor'"
      ]
     },
     "execution_count": 68,
     "metadata": {},
     "output_type": "execute_result"
    }
   ],
   "source": [
    "best_regressor_name"
   ]
  },
  {
   "cell_type": "code",
   "execution_count": 20,
   "metadata": {},
   "outputs": [],
   "source": [
    "scaler = StandardScaler().fit(X_train)\n",
    "X_train_sc = scaler.transform(X_train)\n",
    "\n",
    "X_test_sc = scaler.transform(X_test)"
   ]
  },
  {
   "cell_type": "code",
   "execution_count": 70,
   "metadata": {},
   "outputs": [],
   "source": [
    "best_model = best_regressor.fit(X_train_sc, y_train)"
   ]
  },
  {
   "cell_type": "code",
   "execution_count": 71,
   "metadata": {},
   "outputs": [],
   "source": [
    "pred = best_model.predict(X_test_sc)"
   ]
  },
  {
   "cell_type": "code",
   "execution_count": 72,
   "metadata": {},
   "outputs": [
    {
     "name": "stdout",
     "output_type": "stream",
     "text": [
      "0.43079912938718756\n",
      "345429.61664188164\n"
     ]
    }
   ],
   "source": [
    "from sklearn.metrics import r2_score, mean_squared_error\n",
    "print(r2_score(y_test, pred))\n",
    "rms = mean_squared_error(y_test, pred, squared=False)\n",
    "print(rms)"
   ]
  },
  {
   "cell_type": "code",
   "execution_count": 73,
   "metadata": {},
   "outputs": [
    {
     "name": "stdout",
     "output_type": "stream",
     "text": [
      "The true value is: 589204.0\n",
      "and the predicted value is: [665218.44]\n"
     ]
    }
   ],
   "source": [
    "idx = 2\n",
    "print('The true value is: ' +str(y_test.iloc[idx]))\n",
    "print('and the predicted value is: ' +str(best_model.predict(X_test_sc[idx].reshape(1, -1))))"
   ]
  },
  {
   "cell_type": "code",
   "execution_count": 74,
   "metadata": {},
   "outputs": [
    {
     "name": "stdout",
     "output_type": "stream",
     "text": [
      "Model saved as best_model_xgbregressor.joblib\n"
     ]
    }
   ],
   "source": [
    "from joblib import dump\n",
    "\n",
    "# Save the best model to disk\n",
    "model_filename = f'best_model_{best_regressor_name.replace(\" \", \"_\").lower()}.joblib'\n",
    "dump(best_model, model_filename)\n",
    "print(f\"Model saved as {model_filename}\")"
   ]
  },
  {
   "cell_type": "code",
   "execution_count": 75,
   "metadata": {},
   "outputs": [],
   "source": [
    "# save X_train, X_test, y_train, y_test to csv\n",
    "X_train.to_csv('X_train.csv')\n",
    "X_test.to_csv('X_test.csv')\n",
    "y_train.to_csv('y_train.csv')\n",
    "y_test.to_csv('y_test.csv')"
   ]
  },
  {
   "cell_type": "markdown",
   "metadata": {},
   "source": [
    "### NN model"
   ]
  },
  {
   "cell_type": "code",
   "execution_count": 15,
   "metadata": {},
   "outputs": [],
   "source": [
    "import tensorflow as tf\n",
    "from tensorflow.keras.callbacks import EarlyStopping"
   ]
  },
  {
   "cell_type": "code",
   "execution_count": 21,
   "metadata": {},
   "outputs": [],
   "source": [
    "def r2_metric(y_true, y_pred):\n",
    "    ss_res = tf.reduce_sum(tf.square(y_true - y_pred))\n",
    "    ss_tot = tf.reduce_sum(tf.square(y_true - tf.reduce_mean(y_true)))\n",
    "    return 1 - ss_res / (ss_tot + tf.keras.backend.epsilon())"
   ]
  },
  {
   "cell_type": "code",
   "execution_count": null,
   "metadata": {},
   "outputs": [
    {
     "name": "stdout",
     "output_type": "stream",
     "text": [
      "Model: \"sequential_1\"\n",
      "_________________________________________________________________\n",
      " Layer (type)                Output Shape              Param #   \n",
      "=================================================================\n",
      " dense_14 (Dense)            (None, 512)               9728      \n",
      "                                                                 \n",
      " dense_15 (Dense)            (None, 256)               131328    \n",
      "                                                                 \n",
      " batch_normalization_10 (Bat  (None, 256)              1024      \n",
      " chNormalization)                                                \n",
      "                                                                 \n",
      " dense_16 (Dense)            (None, 256)               65792     \n",
      "                                                                 \n",
      " batch_normalization_11 (Bat  (None, 256)              1024      \n",
      " chNormalization)                                                \n",
      "                                                                 \n",
      " dense_17 (Dense)            (None, 256)               65792     \n",
      "                                                                 \n",
      " batch_normalization_12 (Bat  (None, 256)              1024      \n",
      " chNormalization)                                                \n",
      "                                                                 \n",
      " dense_18 (Dense)            (None, 128)               32896     \n",
      "                                                                 \n",
      " batch_normalization_13 (Bat  (None, 128)              512       \n",
      " chNormalization)                                                \n",
      "                                                                 \n",
      " dense_19 (Dense)            (None, 128)               16512     \n",
      "                                                                 \n",
      " batch_normalization_14 (Bat  (None, 128)              512       \n",
      " chNormalization)                                                \n",
      "                                                                 \n",
      " dense_20 (Dense)            (None, 128)               16512     \n",
      "                                                                 \n",
      " batch_normalization_15 (Bat  (None, 128)              512       \n",
      " chNormalization)                                                \n",
      "                                                                 \n",
      " dense_21 (Dense)            (None, 64)                8256      \n",
      "                                                                 \n",
      " batch_normalization_16 (Bat  (None, 64)               256       \n",
      " chNormalization)                                                \n",
      "                                                                 \n",
      " dense_22 (Dense)            (None, 64)                4160      \n",
      "                                                                 \n",
      " batch_normalization_17 (Bat  (None, 64)               256       \n",
      " chNormalization)                                                \n",
      "                                                                 \n",
      " dense_23 (Dense)            (None, 32)                2080      \n",
      "                                                                 \n",
      " batch_normalization_18 (Bat  (None, 32)               128       \n",
      " chNormalization)                                                \n",
      "                                                                 \n",
      " dropout_10 (Dropout)        (None, 32)                0         \n",
      "                                                                 \n",
      " dense_24 (Dense)            (None, 16)                528       \n",
      "                                                                 \n",
      " dense_25 (Dense)            (None, 8)                 136       \n",
      "                                                                 \n",
      " dense_26 (Dense)            (None, 4)                 36        \n",
      "                                                                 \n",
      " dense_27 (Dense)            (None, 1)                 5         \n",
      "                                                                 \n",
      "=================================================================\n",
      "Total params: 359,009\n",
      "Trainable params: 356,385\n",
      "Non-trainable params: 2,624\n",
      "_________________________________________________________________\n",
      "Epoch 1/500\n",
      "213/213 [==============================] - 9s 25ms/step - loss: 391933755392.0000 - r2_metric: -0.9608 - val_loss: 390335004672.0000 - val_r2_metric: -0.9770\n",
      "Epoch 2/500\n",
      "213/213 [==============================] - 5s 21ms/step - loss: 391933591552.0000 - r2_metric: -0.9780 - val_loss: 390334775296.0000 - val_r2_metric: -0.9770\n",
      "Epoch 3/500\n",
      "213/213 [==============================] - 4s 20ms/step - loss: 391932903424.0000 - r2_metric: -0.9461 - val_loss: 390333661184.0000 - val_r2_metric: -0.9770\n",
      "Epoch 4/500\n",
      "213/213 [==============================] - 5s 24ms/step - loss: 391931494400.0000 - r2_metric: -0.9548 - val_loss: 390331564032.0000 - val_r2_metric: -0.9770\n",
      "Epoch 5/500\n",
      "213/213 [==============================] - 4s 19ms/step - loss: 391928479744.0000 - r2_metric: -0.9567 - val_loss: 390327435264.0000 - val_r2_metric: -0.9770\n",
      "Epoch 6/500\n",
      "161/213 [=====================>........] - ETA: 0s - loss: 393257713664.0000 - r2_metric: -0.9678"
     ]
    }
   ],
   "source": [
    "# Build the neural network model\n",
    "model = tf.keras.Sequential([\n",
    "    tf.keras.layers.Dense(512, activation='relu', input_shape=(X_train_sc.shape[1],)),\n",
    "    tf.keras.layers.Dense(256, activation='relu'),\n",
    "    tf.keras.layers.BatchNormalization(),\n",
    "    tf.keras.layers.Dense(256, activation='relu'),\n",
    "    tf.keras.layers.BatchNormalization(),\n",
    "    tf.keras.layers.Dense(256, activation='relu'),\n",
    "    tf.keras.layers.BatchNormalization(),\n",
    "    tf.keras.layers.Dense(128, activation='relu'),\n",
    "    tf.keras.layers.BatchNormalization(),\n",
    "    tf.keras.layers.Dense(128, activation='relu'),\n",
    "    tf.keras.layers.BatchNormalization(),\n",
    "    tf.keras.layers.Dense(128, activation='relu'),\n",
    "    tf.keras.layers.BatchNormalization(),\n",
    "    tf.keras.layers.Dense(64, activation='relu'),\n",
    "    tf.keras.layers.BatchNormalization(),\n",
    "    tf.keras.layers.Dense(64, activation='relu'),\n",
    "    tf.keras.layers.BatchNormalization(),\n",
    "    tf.keras.layers.Dense(32, activation='relu'),\n",
    "    tf.keras.layers.BatchNormalization(),\n",
    "    tf.keras.layers.Dropout(0.5),\n",
    "    tf.keras.layers.Dense(16, activation='relu'),\n",
    "    tf.keras.layers.Dense(8, activation='relu'),\n",
    "    tf.keras.layers.Dense(4, activation='relu'),\n",
    "    tf.keras.layers.Dense(1)  # Output layer\n",
    "])\n",
    "\n",
    "model.summary()\n",
    "\n",
    "learning_rate = 0.0001\n",
    "adam = tf.keras.optimizers.Adam(learning_rate=learning_rate)\n",
    "\n",
    "# Compile the model\n",
    "model.compile(optimizer=adam, loss='mean_squared_error', metrics=[r2_metric])\n",
    "\n",
    "# Define early stopping callback\n",
    "early_stopping = EarlyStopping(monitor='val_loss', patience=10, restore_best_weights=True)\n",
    "\n",
    "# Train the model with validation split and early stopping\n",
    "history = model.fit(X_train_sc, y_train, \n",
    "                    validation_split=0.2, \n",
    "                    epochs=500, \n",
    "                    batch_size=512, \n",
    "                    callbacks=[early_stopping])\n",
    "\n",
    "# The model will stop training when the validation loss stops improving\n",
    "print(\"Training stopped at epoch:\", len(history.history['loss']))"
   ]
  },
  {
   "cell_type": "code",
   "execution_count": 23,
   "metadata": {},
   "outputs": [
    {
     "data": {
      "text/plain": [
       "dict_keys(['loss', 'r2_metric', 'val_loss', 'val_r2_metric'])"
      ]
     },
     "execution_count": 23,
     "metadata": {},
     "output_type": "execute_result"
    }
   ],
   "source": [
    "history.history.keys()"
   ]
  },
  {
   "cell_type": "code",
   "execution_count": 24,
   "metadata": {},
   "outputs": [
    {
     "name": "stdout",
     "output_type": "stream",
     "text": [
      "dict_keys(['loss', 'r2_metric', 'val_loss', 'val_r2_metric'])\n"
     ]
    },
    {
     "data": {
      "image/png": "[encoded data removed]",
      "text/plain": [
       "<Figure size 1000x400 with 2 Axes>"
      ]
     },
     "metadata": {},
     "output_type": "display_data"
    }
   ],
   "source": [
    "# list all data in history\n",
    "print(history.history.keys())\n",
    "# summarize history for accuracy\n",
    "fig, (ax0, ax1) = plt.subplots(1,2, figsize=(10,4))\n",
    "ax0.plot(history.history['r2_metric'])\n",
    "ax0.plot(history.history['val_r2_metric'])\n",
    "ax0.set_title('model R$^{2}$')\n",
    "ax0.set_ylabel('R$^{2}$')\n",
    "ax0.set_xlabel('epoch')\n",
    "ax0.legend(['train', 'validation'], loc=4)\n",
    "# summarize history for loss\n",
    "ax1.plot(history.history['loss'])\n",
    "ax1.plot(history.history['val_loss'])\n",
    "ax1.set_title('model loss')\n",
    "ax1.set_ylabel('loss')\n",
    "ax1.set_xlabel('epoch')\n",
    "ax1.legend(['train', 'validation'], loc=1)\n",
    "plt.show()"
   ]
  },
  {
   "cell_type": "code",
   "execution_count": 123,
   "metadata": {},
   "outputs": [
    {
     "name": "stdout",
     "output_type": "stream",
     "text": [
      "1062/1062 [==============================] - 5s 5ms/step\n"
     ]
    }
   ],
   "source": [
    "# Make predictions\n",
    "y_pred_nn = model.predict(X_test_sc)"
   ]
  },
  {
   "cell_type": "code",
   "execution_count": 124,
   "metadata": {},
   "outputs": [
    {
     "name": "stdout",
     "output_type": "stream",
     "text": [
      "Root Mean Squared Error (RMSE): 343537.41286685277\n",
      "R2 score: 0.4370180177151044\n"
     ]
    }
   ],
   "source": [
    "rmse = np.sqrt(mean_squared_error(y_test, y_pred_nn))\n",
    "print(\"Root Mean Squared Error (RMSE):\", rmse)\n",
    "print(\"R2 score:\", r2_score(y_test, y_pred_nn))"
   ]
  },
  {
   "cell_type": "code",
   "execution_count": 128,
   "metadata": {},
   "outputs": [],
   "source": [
    "# Save the NN model\n",
    "model.save('NN_model.h5')"
   ]
  },
  {
   "cell_type": "code",
   "execution_count": null,
   "metadata": {},
   "outputs": [],
   "source": []
  }
 ],
 "metadata": {
  "colab": {
   "provenance": []
  },
  "kernelspec": {
   "display_name": "Python 3 (ipykernel)",
   "language": "python",
   "name": "python3"
  },
  "language_info": {
   "codemirror_mode": {
    "name": "ipython",
    "version": 3
   },
   "file_extension": ".py",
   "mimetype": "text/x-python",
   "name": "python",
   "nbconvert_exporter": "python",
   "pygments_lexer": "ipython3",
   "version": "3.10.13"
  }
 },
 "nbformat": 4,
 "nbformat_minor": 4
}
